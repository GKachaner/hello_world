{
  "nbformat": 4,
  "nbformat_minor": 0,
  "metadata": {
    "colab": {
      "name": "Bienvenue dans Colaboratory",
      "provenance": [],
      "collapsed_sections": [],
      "toc_visible": true
    },
    "kernelspec": {
      "display_name": "Python 3",
      "language": "python",
      "name": "python3"
    },
    "language_info": {
      "codemirror_mode": {
        "name": "ipython",
        "version": 3
      },
      "file_extension": ".py",
      "mimetype": "text/x-python",
      "name": "python",
      "nbconvert_exporter": "python",
      "pygments_lexer": "ipython3",
      "version": "3.7.3"
    }
  },
  "cells": [
    {
      "cell_type": "markdown",
      "metadata": {
        "colab_type": "text",
        "id": "5fCEDCU_qrC0"
      },
      "source": [
        ""
      ]
    },
    {
      "cell_type": "markdown",
      "metadata": {
        "colab_type": "text",
        "id": "GcsY9Yhr2Wki"
      },
      "source": [
        "# Sandbox\n"
      ]
    },
    {
      "cell_type": "code",
      "metadata": {
        "colab_type": "code",
        "id": "S4NfjZf82cdX",
        "outputId": "98d6fbf0-57f1-44b3-f09d-9adbfc3230e2",
        "colab": {
          "base_uri": "https://localhost:8080/",
          "height": 88
        }
      },
      "source": [
        "import tensorflow as tf\n",
        "import numpy as np\n",
        "model = tf.keras.models.Sequential()\n",
        "model.add(tf.keras.layers.Flatten())\n",
        "model.add(tf.keras.layers.Dense(128,activation=tf.nn.relu))\n",
        "model.add(tf.keras.layers.Dense(128,activation=tf.nn.relu))\n",
        "model.add(tf.keras.layers.Dense(10,activation=tf.nn.softmax))\n",
        "model.compile(optimizer='adam',\n",
        "              loss='sparse_categorical_crossentropy',\n",
        "              metrics=['accuracy'])\n"
      ],
      "execution_count": 3,
      "outputs": [
        {
          "output_type": "stream",
          "text": [
            "WARNING:tensorflow:From /usr/local/lib/python3.6/dist-packages/tensorflow/python/ops/init_ops.py:1251: calling VarianceScaling.__init__ (from tensorflow.python.ops.init_ops) with dtype is deprecated and will be removed in a future version.\n",
            "Instructions for updating:\n",
            "Call initializer instance with the dtype argument instead of passing it to the constructor\n"
          ],
          "name": "stdout"
        }
      ]
    },
    {
      "cell_type": "code",
      "metadata": {
        "colab_type": "code",
        "id": "xQlVd6gH2hi6",
        "colab": {
          "base_uri": "https://localhost:8080/",
          "height": 68
        },
        "outputId": "1cd61f43-d896-49b1-ef1e-7f8fb683a274"
      },
      "source": [
        "from keras.datasets import mnist\n",
        "\n",
        "(x_train, y_train), (x_test, y_test) = mnist.load_data()\n",
        "x_train = tf.keras.utils.normalize(x_train, axis=1)\n",
        "x_test = tf.keras.utils.normalize(x_test, axis=1)\n"
      ],
      "execution_count": 4,
      "outputs": [
        {
          "output_type": "stream",
          "text": [
            "Downloading data from https://s3.amazonaws.com/img-datasets/mnist.npz\n"
          ],
          "name": "stdout"
        },
        {
          "output_type": "stream",
          "text": [
            "Using TensorFlow backend.\n"
          ],
          "name": "stderr"
        },
        {
          "output_type": "stream",
          "text": [
            "11493376/11490434 [==============================] - 0s 0us/step\n"
          ],
          "name": "stdout"
        }
      ]
    },
    {
      "cell_type": "code",
      "metadata": {
        "colab_type": "code",
        "id": "Y_bul3BF2oqs",
        "outputId": "8a75a1d3-32a6-4c31-b13f-bb52a7127131",
        "colab": {
          "base_uri": "https://localhost:8080/",
          "height": 34
        }
      },
      "source": [
        "x_train.shape"
      ],
      "execution_count": 5,
      "outputs": [
        {
          "output_type": "execute_result",
          "data": {
            "text/plain": [
              "(60000, 28, 28)"
            ]
          },
          "metadata": {
            "tags": []
          },
          "execution_count": 5
        }
      ]
    },
    {
      "cell_type": "code",
      "metadata": {
        "colab_type": "code",
        "id": "DD59YfZU2pqK",
        "outputId": "782a7f49-fccc-4359-b56b-c47aa821e771",
        "colab": {
          "base_uri": "https://localhost:8080/",
          "height": 136
        }
      },
      "source": [
        "model.fit(x_train,y_train, epochs=3)\n"
      ],
      "execution_count": 6,
      "outputs": [
        {
          "output_type": "stream",
          "text": [
            "Epoch 1/3\n",
            "60000/60000 [==============================] - 5s 79us/sample - loss: 0.2630 - acc: 0.9228\n",
            "Epoch 2/3\n",
            "60000/60000 [==============================] - 4s 71us/sample - loss: 0.1098 - acc: 0.9647\n",
            "Epoch 3/3\n",
            "60000/60000 [==============================] - 4s 70us/sample - loss: 0.0761 - acc: 0.9762\n"
          ],
          "name": "stdout"
        },
        {
          "output_type": "execute_result",
          "data": {
            "text/plain": [
              "<tensorflow.python.keras.callbacks.History at 0x7ff1bd956898>"
            ]
          },
          "metadata": {
            "tags": []
          },
          "execution_count": 6
        }
      ]
    },
    {
      "cell_type": "code",
      "metadata": {
        "colab_type": "code",
        "id": "JygQ6xZM2rKW",
        "outputId": "f9273225-4b0f-4a58-ba79-17f32b8550c6",
        "colab": {
          "base_uri": "https://localhost:8080/",
          "height": 34
        }
      },
      "source": [
        "val_loss, val_acc = model.evaluate(x_test,y_test)"
      ],
      "execution_count": 7,
      "outputs": [
        {
          "output_type": "stream",
          "text": [
            "10000/10000 [==============================] - 0s 31us/sample - loss: 0.0967 - acc: 0.9702\n"
          ],
          "name": "stdout"
        }
      ]
    },
    {
      "cell_type": "code",
      "metadata": {
        "colab_type": "code",
        "id": "Ik_C-FHB2vNB",
        "outputId": "00b76d5f-fd8f-4c15-906b-2ae11bfe08ac",
        "colab": {
          "base_uri": "https://localhost:8080/",
          "height": 34
        }
      },
      "source": [
        "print(\"loss:\",val_loss)\n",
        "predictions = model.predict(x_test)\n"
      ],
      "execution_count": 8,
      "outputs": [
        {
          "output_type": "stream",
          "text": [
            "loss: 0.09665559138748794\n"
          ],
          "name": "stdout"
        }
      ]
    },
    {
      "cell_type": "code",
      "metadata": {
        "colab_type": "code",
        "id": "VjBXbCRY20BB",
        "outputId": "823d94ba-d266-40c2-9ced-d31791db6f3e",
        "colab": {
          "base_uri": "https://localhost:8080/",
          "height": 286
        }
      },
      "source": [
        "\n",
        "import random\n",
        "index = random.randint(0,999)\n",
        "import matplotlib.pyplot as plt\n",
        "plt.imshow(x_test[index])\n",
        "plt.show()\n",
        "print(np.argmax(predictions[index]))\n"
      ],
      "execution_count": 16,
      "outputs": [
        {
          "output_type": "display_data",
          "data": {
            "image/png": "[encoded data removed]",
            "text/plain": [
              "<Figure size 432x288 with 1 Axes>"
            ]
          },
          "metadata": {
            "tags": []
          }
        },
        {
          "output_type": "stream",
          "text": [
            "4\n"
          ],
          "name": "stdout"
        }
      ]
    },
    {
      "cell_type": "markdown",
      "metadata": {
        "id": "33yd5hXMNOgn",
        "colab_type": "text"
      },
      "source": [
        "# EXO 1"
      ]
    },
    {
      "cell_type": "code",
      "metadata": {
        "colab_type": "code",
        "id": "DPbPVak1NWoK",
        "colab": {}
      },
      "source": [
        "import tensorflow as tf\n",
        "import numpy as np\n",
        "model = tf.keras.models.Sequential()\n",
        "model.add(tf.keras.layers.Flatten())\n",
        "model.add(tf.keras.layers.Dense(128,activation=tf.nn.relu))\n",
        "model.add(tf.keras.layers.Dense(128,activation=tf.nn.relu))\n",
        "model.add(tf.keras.layers.Dense(2,activation=tf.nn.softmax))\n",
        "model.compile(optimizer='adam',\n",
        "              loss='sparse_categorical_crossentropy',\n",
        "              metrics=['accuracy'])"
      ],
      "execution_count": 0,
      "outputs": []
    },
    {
      "cell_type": "code",
      "metadata": {
        "id": "ZJWmxiSBMh4_",
        "colab_type": "code",
        "colab": {}
      },
      "source": [
        "x_train = np.load('mrbraintrainx.npy')\n",
        "y_train = np.load('mrbraintrainy.npy')\n",
        "x_test = np.load('mrbraintestx.npy')\n",
        "y_test = np.load('mrbraintesty.npy')\n",
        "\n",
        "\n",
        "x_train = tf.keras.utils.normalize(x_train, axis=1)\n",
        "x_test = tf.keras.utils.normalize(x_test, axis=1)"
      ],
      "execution_count": 0,
      "outputs": []
    },
    {
      "cell_type": "code",
      "metadata": {
        "id": "EPAvevY3N28d",
        "colab_type": "code",
        "colab": {
          "base_uri": "https://localhost:8080/",
          "height": 34
        },
        "outputId": "95619bd5-44b1-48d1-b0c1-31322fafaeb6"
      },
      "source": [
        "x_train.shape"
      ],
      "execution_count": 30,
      "outputs": [
        {
          "output_type": "execute_result",
          "data": {
            "text/plain": [
              "(780, 32, 32)"
            ]
          },
          "metadata": {
            "tags": []
          },
          "execution_count": 30
        }
      ]
    },
    {
      "cell_type": "code",
      "metadata": {
        "id": "hXVG06yVN9tG",
        "colab_type": "code",
        "colab": {
          "base_uri": "https://localhost:8080/",
          "height": 1000
        },
        "outputId": "dc135c86-9b36-4d69-c62c-e1d6140f17f3"
      },
      "source": [
        "model.fit(x_train,y_train, epochs=100)"
      ],
      "execution_count": 34,
      "outputs": [
        {
          "output_type": "stream",
          "text": [
            "Epoch 1/100\n",
            "780/780 [==============================] - 0s 107us/sample - loss: 0.6888 - acc: 0.5397\n",
            "Epoch 2/100\n",
            "780/780 [==============================] - 0s 103us/sample - loss: 0.6861 - acc: 0.5462\n",
            "Epoch 3/100\n",
            "780/780 [==============================] - 0s 89us/sample - loss: 0.6869 - acc: 0.5462\n",
            "Epoch 4/100\n",
            "780/780 [==============================] - 0s 83us/sample - loss: 0.6913 - acc: 0.5256\n",
            "Epoch 5/100\n",
            "780/780 [==============================] - 0s 86us/sample - loss: 0.6724 - acc: 0.5949\n",
            "Epoch 6/100\n",
            "780/780 [==============================] - 0s 88us/sample - loss: 0.6669 - acc: 0.5936\n",
            "Epoch 7/100\n",
            "780/780 [==============================] - 0s 90us/sample - loss: 0.6643 - acc: 0.5744\n",
            "Epoch 8/100\n",
            "780/780 [==============================] - 0s 91us/sample - loss: 0.6621 - acc: 0.5615\n",
            "Epoch 9/100\n",
            "780/780 [==============================] - 0s 85us/sample - loss: 0.6402 - acc: 0.6128\n",
            "Epoch 10/100\n",
            "780/780 [==============================] - 0s 85us/sample - loss: 0.6321 - acc: 0.6141\n",
            "Epoch 11/100\n",
            "780/780 [==============================] - 0s 89us/sample - loss: 0.6400 - acc: 0.5987\n",
            "Epoch 12/100\n",
            "780/780 [==============================] - 0s 92us/sample - loss: 0.6341 - acc: 0.6256\n",
            "Epoch 13/100\n",
            "780/780 [==============================] - 0s 87us/sample - loss: 0.6199 - acc: 0.6192\n",
            "Epoch 14/100\n",
            "780/780 [==============================] - 0s 88us/sample - loss: 0.6359 - acc: 0.6090\n",
            "Epoch 15/100\n",
            "780/780 [==============================] - 0s 83us/sample - loss: 0.6382 - acc: 0.6244\n",
            "Epoch 16/100\n",
            "780/780 [==============================] - 0s 101us/sample - loss: 0.6231 - acc: 0.6359\n",
            "Epoch 17/100\n",
            "780/780 [==============================] - 0s 98us/sample - loss: 0.6124 - acc: 0.6423\n",
            "Epoch 18/100\n",
            "780/780 [==============================] - 0s 97us/sample - loss: 0.6155 - acc: 0.6231\n",
            "Epoch 19/100\n",
            "780/780 [==============================] - 0s 99us/sample - loss: 0.6122 - acc: 0.6231\n",
            "Epoch 20/100\n",
            "780/780 [==============================] - 0s 91us/sample - loss: 0.6031 - acc: 0.6526\n",
            "Epoch 21/100\n",
            "780/780 [==============================] - 0s 96us/sample - loss: 0.6178 - acc: 0.6205\n",
            "Epoch 22/100\n",
            "780/780 [==============================] - 0s 88us/sample - loss: 0.6139 - acc: 0.6385\n",
            "Epoch 23/100\n",
            "780/780 [==============================] - 0s 91us/sample - loss: 0.5983 - acc: 0.6423\n",
            "Epoch 24/100\n",
            "780/780 [==============================] - 0s 98us/sample - loss: 0.5972 - acc: 0.6449\n",
            "Epoch 25/100\n",
            "780/780 [==============================] - 0s 97us/sample - loss: 0.5994 - acc: 0.6500\n",
            "Epoch 26/100\n",
            "780/780 [==============================] - 0s 96us/sample - loss: 0.5920 - acc: 0.6590\n",
            "Epoch 27/100\n",
            "780/780 [==============================] - 0s 101us/sample - loss: 0.5975 - acc: 0.6449\n",
            "Epoch 28/100\n",
            "780/780 [==============================] - 0s 101us/sample - loss: 0.5975 - acc: 0.6551\n",
            "Epoch 29/100\n",
            "780/780 [==============================] - 0s 90us/sample - loss: 0.5961 - acc: 0.6449\n",
            "Epoch 30/100\n",
            "780/780 [==============================] - 0s 98us/sample - loss: 0.5914 - acc: 0.6526\n",
            "Epoch 31/100\n",
            "780/780 [==============================] - 0s 93us/sample - loss: 0.5894 - acc: 0.6654\n",
            "Epoch 32/100\n",
            "780/780 [==============================] - 0s 86us/sample - loss: 0.5840 - acc: 0.6513\n",
            "Epoch 33/100\n",
            "780/780 [==============================] - 0s 90us/sample - loss: 0.5902 - acc: 0.6564\n",
            "Epoch 34/100\n",
            "780/780 [==============================] - 0s 88us/sample - loss: 0.5814 - acc: 0.6513\n",
            "Epoch 35/100\n",
            "780/780 [==============================] - 0s 91us/sample - loss: 0.5703 - acc: 0.6731\n",
            "Epoch 36/100\n",
            "780/780 [==============================] - 0s 85us/sample - loss: 0.5753 - acc: 0.6692\n",
            "Epoch 37/100\n",
            "780/780 [==============================] - 0s 93us/sample - loss: 0.5709 - acc: 0.6808\n",
            "Epoch 38/100\n",
            "780/780 [==============================] - 0s 94us/sample - loss: 0.5741 - acc: 0.6615\n",
            "Epoch 39/100\n",
            "780/780 [==============================] - 0s 101us/sample - loss: 0.5784 - acc: 0.6641\n",
            "Epoch 40/100\n",
            "780/780 [==============================] - 0s 92us/sample - loss: 0.5856 - acc: 0.6551\n",
            "Epoch 41/100\n",
            "780/780 [==============================] - 0s 94us/sample - loss: 0.5626 - acc: 0.6795\n",
            "Epoch 42/100\n",
            "780/780 [==============================] - 0s 104us/sample - loss: 0.5640 - acc: 0.6782\n",
            "Epoch 43/100\n",
            "780/780 [==============================] - 0s 102us/sample - loss: 0.5733 - acc: 0.6731\n",
            "Epoch 44/100\n",
            "780/780 [==============================] - 0s 94us/sample - loss: 0.5752 - acc: 0.6551\n",
            "Epoch 45/100\n",
            "780/780 [==============================] - 0s 94us/sample - loss: 0.5656 - acc: 0.6731\n",
            "Epoch 46/100\n",
            "780/780 [==============================] - 0s 100us/sample - loss: 0.5678 - acc: 0.6744\n",
            "Epoch 47/100\n",
            "780/780 [==============================] - 0s 94us/sample - loss: 0.5559 - acc: 0.6897\n",
            "Epoch 48/100\n",
            "780/780 [==============================] - 0s 90us/sample - loss: 0.5527 - acc: 0.7051\n",
            "Epoch 49/100\n",
            "780/780 [==============================] - 0s 100us/sample - loss: 0.5518 - acc: 0.6859\n",
            "Epoch 50/100\n",
            "780/780 [==============================] - 0s 97us/sample - loss: 0.5494 - acc: 0.6846\n",
            "Epoch 51/100\n",
            "780/780 [==============================] - 0s 84us/sample - loss: 0.5484 - acc: 0.6897\n",
            "Epoch 52/100\n",
            "780/780 [==============================] - 0s 90us/sample - loss: 0.5593 - acc: 0.6962\n",
            "Epoch 53/100\n",
            "780/780 [==============================] - 0s 89us/sample - loss: 0.5511 - acc: 0.6910\n",
            "Epoch 54/100\n",
            "780/780 [==============================] - 0s 95us/sample - loss: 0.5512 - acc: 0.6923\n",
            "Epoch 55/100\n",
            "780/780 [==============================] - 0s 92us/sample - loss: 0.5295 - acc: 0.6987\n",
            "Epoch 56/100\n",
            "780/780 [==============================] - 0s 86us/sample - loss: 0.5410 - acc: 0.6885\n",
            "Epoch 57/100\n",
            "780/780 [==============================] - 0s 89us/sample - loss: 0.5520 - acc: 0.6897\n",
            "Epoch 58/100\n",
            "780/780 [==============================] - 0s 95us/sample - loss: 0.5464 - acc: 0.6859\n",
            "Epoch 59/100\n",
            "780/780 [==============================] - 0s 100us/sample - loss: 0.5428 - acc: 0.6859\n",
            "Epoch 60/100\n",
            "780/780 [==============================] - 0s 92us/sample - loss: 0.5391 - acc: 0.7064\n",
            "Epoch 61/100\n",
            "780/780 [==============================] - 0s 89us/sample - loss: 0.5264 - acc: 0.7013\n",
            "Epoch 62/100\n",
            "780/780 [==============================] - 0s 82us/sample - loss: 0.5325 - acc: 0.6936\n",
            "Epoch 63/100\n",
            "780/780 [==============================] - 0s 88us/sample - loss: 0.5281 - acc: 0.7038\n",
            "Epoch 64/100\n",
            "780/780 [==============================] - 0s 85us/sample - loss: 0.5461 - acc: 0.6949\n",
            "Epoch 65/100\n",
            "780/780 [==============================] - 0s 89us/sample - loss: 0.5311 - acc: 0.7026\n",
            "Epoch 66/100\n",
            "780/780 [==============================] - 0s 94us/sample - loss: 0.5340 - acc: 0.7026\n",
            "Epoch 67/100\n",
            "780/780 [==============================] - 0s 87us/sample - loss: 0.5737 - acc: 0.6628\n",
            "Epoch 68/100\n",
            "780/780 [==============================] - 0s 93us/sample - loss: 0.5493 - acc: 0.6744\n",
            "Epoch 69/100\n",
            "780/780 [==============================] - 0s 96us/sample - loss: 0.5347 - acc: 0.6987\n",
            "Epoch 70/100\n",
            "780/780 [==============================] - 0s 102us/sample - loss: 0.5252 - acc: 0.7064\n",
            "Epoch 71/100\n",
            "780/780 [==============================] - 0s 92us/sample - loss: 0.5333 - acc: 0.6987\n",
            "Epoch 72/100\n",
            "780/780 [==============================] - 0s 96us/sample - loss: 0.5186 - acc: 0.7038\n",
            "Epoch 73/100\n",
            "780/780 [==============================] - 0s 93us/sample - loss: 0.5117 - acc: 0.7154\n",
            "Epoch 74/100\n",
            "780/780 [==============================] - 0s 100us/sample - loss: 0.5088 - acc: 0.7256\n",
            "Epoch 75/100\n",
            "780/780 [==============================] - 0s 88us/sample - loss: 0.5109 - acc: 0.7167\n",
            "Epoch 76/100\n",
            "780/780 [==============================] - 0s 99us/sample - loss: 0.5084 - acc: 0.7359\n",
            "Epoch 77/100\n",
            "780/780 [==============================] - 0s 90us/sample - loss: 0.5202 - acc: 0.7064\n",
            "Epoch 78/100\n",
            "780/780 [==============================] - 0s 96us/sample - loss: 0.5150 - acc: 0.7192\n",
            "Epoch 79/100\n",
            "780/780 [==============================] - 0s 101us/sample - loss: 0.5256 - acc: 0.7167\n",
            "Epoch 80/100\n",
            "780/780 [==============================] - 0s 93us/sample - loss: 0.5115 - acc: 0.7103\n",
            "Epoch 81/100\n",
            "780/780 [==============================] - 0s 84us/sample - loss: 0.5095 - acc: 0.7167\n",
            "Epoch 82/100\n",
            "780/780 [==============================] - 0s 99us/sample - loss: 0.5275 - acc: 0.7038\n",
            "Epoch 83/100\n",
            "780/780 [==============================] - 0s 90us/sample - loss: 0.5369 - acc: 0.7026\n",
            "Epoch 84/100\n",
            "780/780 [==============================] - 0s 101us/sample - loss: 0.5000 - acc: 0.7231\n",
            "Epoch 85/100\n",
            "780/780 [==============================] - 0s 99us/sample - loss: 0.4979 - acc: 0.7282\n",
            "Epoch 86/100\n",
            "780/780 [==============================] - 0s 89us/sample - loss: 0.4961 - acc: 0.7231\n",
            "Epoch 87/100\n",
            "780/780 [==============================] - 0s 93us/sample - loss: 0.4850 - acc: 0.7295\n",
            "Epoch 88/100\n",
            "780/780 [==============================] - 0s 102us/sample - loss: 0.4848 - acc: 0.7256\n",
            "Epoch 89/100\n",
            "780/780 [==============================] - 0s 95us/sample - loss: 0.5059 - acc: 0.7256\n",
            "Epoch 90/100\n",
            "780/780 [==============================] - 0s 95us/sample - loss: 0.4915 - acc: 0.7231\n",
            "Epoch 91/100\n",
            "780/780 [==============================] - 0s 89us/sample - loss: 0.4971 - acc: 0.7103\n",
            "Epoch 92/100\n",
            "780/780 [==============================] - 0s 85us/sample - loss: 0.5238 - acc: 0.7218\n",
            "Epoch 93/100\n",
            "780/780 [==============================] - 0s 95us/sample - loss: 0.5221 - acc: 0.7128\n",
            "Epoch 94/100\n",
            "780/780 [==============================] - 0s 86us/sample - loss: 0.4988 - acc: 0.7282\n",
            "Epoch 95/100\n",
            "780/780 [==============================] - 0s 94us/sample - loss: 0.4997 - acc: 0.7179\n",
            "Epoch 96/100\n",
            "780/780 [==============================] - 0s 84us/sample - loss: 0.4911 - acc: 0.7244\n",
            "Epoch 97/100\n",
            "780/780 [==============================] - 0s 82us/sample - loss: 0.4813 - acc: 0.7346\n",
            "Epoch 98/100\n",
            "780/780 [==============================] - 0s 93us/sample - loss: 0.4876 - acc: 0.7295\n",
            "Epoch 99/100\n",
            "780/780 [==============================] - 0s 80us/sample - loss: 0.5368 - acc: 0.7013\n",
            "Epoch 100/100\n",
            "780/780 [==============================] - 0s 80us/sample - loss: 0.4850 - acc: 0.7359\n"
          ],
          "name": "stdout"
        },
        {
          "output_type": "execute_result",
          "data": {
            "text/plain": [
              "<tensorflow.python.keras.callbacks.History at 0x7ff1b47f0550>"
            ]
          },
          "metadata": {
            "tags": []
          },
          "execution_count": 34
        }
      ]
    },
    {
      "cell_type": "code",
      "metadata": {
        "id": "bMQwXHsSOAGn",
        "colab_type": "code",
        "colab": {
          "base_uri": "https://localhost:8080/",
          "height": 34
        },
        "outputId": "8f7f549d-8fd5-4b9f-fb51-0745b660b932"
      },
      "source": [
        "val_loss, val_acc = model.evaluate(x_test,y_test)"
      ],
      "execution_count": 35,
      "outputs": [
        {
          "output_type": "stream",
          "text": [
            "\r20/20 [==============================] - 0s 101us/sample - loss: 0.7743 - acc: 0.4000\n"
          ],
          "name": "stdout"
        }
      ]
    },
    {
      "cell_type": "code",
      "metadata": {
        "id": "H-shhLHZPFLV",
        "colab_type": "code",
        "colab": {
          "base_uri": "https://localhost:8080/",
          "height": 34
        },
        "outputId": "5c5d8291-638a-47c0-f0a0-f131f32baee7"
      },
      "source": [
        "print(\"loss:\",val_loss)\n",
        "predictions = model.predict(x_test)\n"
      ],
      "execution_count": 36,
      "outputs": [
        {
          "output_type": "stream",
          "text": [
            "loss: 0.7743273973464966\n"
          ],
          "name": "stdout"
        }
      ]
    },
    {
      "cell_type": "code",
      "metadata": {
        "id": "RQf8UafCPHZj",
        "colab_type": "code",
        "colab": {}
      },
      "source": [
        ""
      ],
      "execution_count": 0,
      "outputs": []
    }
  ]
}