{
  "nbformat": 4,
  "nbformat_minor": 0,
  "metadata": {
    "colab": {
      "name": "Bienvenue dans Colaboratory",
      "provenance": [],
      "collapsed_sections": [],
      "toc_visible": true
    },
    "kernelspec": {
      "display_name": "Python 3",
      "language": "python",
      "name": "python3"
    },
    "language_info": {
      "codemirror_mode": {
        "name": "ipython",
        "version": 3
      },
      "file_extension": ".py",
      "mimetype": "text/x-python",
      "name": "python",
      "nbconvert_exporter": "python",
      "pygments_lexer": "ipython3",
      "version": "3.7.3"
    }
  },
  "cells": [
    {
      "cell_type": "markdown",
      "metadata": {
        "colab_type": "text",
        "id": "5fCEDCU_qrC0"
      },
      "source": [
        ""
      ]
    },
    {
      "cell_type": "markdown",
      "metadata": {
        "colab_type": "text",
        "id": "GcsY9Yhr2Wki"
      },
      "source": [
        "# MNIST\n"
      ]
    },
    {
      "cell_type": "code",
      "metadata": {
        "id": "jwYsUjoPrXg2",
        "colab_type": "code",
        "colab": {}
      },
      "source": [
        ""
      ],
      "execution_count": 0,
      "outputs": []
    },
    {
      "cell_type": "code",
      "metadata": {
        "colab_type": "code",
        "id": "S4NfjZf82cdX",
        "outputId": "2b76e45b-ac4f-415d-ee53-1846758d9ed1",
        "colab": {
          "base_uri": "https://localhost:8080/",
          "height": 88
        }
      },
      "source": [
        "import tensorflow as tf\n",
        "import numpy as np\n",
        "modelMNIST = tf.keras.models.Sequential()\n",
        "modelMNIST.add(tf.keras.layers.Flatten())\n",
        "modelMNIST.add(tf.keras.layers.Dense(128,activation=tf.nn.relu))\n",
        "modelMNIST.add(tf.keras.layers.Dense(128,activation=tf.nn.relu))\n",
        "modelMNIST.add(tf.keras.layers.Dense(10,activation=tf.nn.softmax))\n",
        "modelMNIST.compile(optimizer='adam',\n",
        "              loss='sparse_categorical_crossentropy',\n",
        "              metrics=['accuracy'])\n"
      ],
      "execution_count": 1,
      "outputs": [
        {
          "output_type": "stream",
          "text": [
            "WARNING:tensorflow:From /usr/local/lib/python3.6/dist-packages/tensorflow/python/ops/init_ops.py:1251: calling VarianceScaling.__init__ (from tensorflow.python.ops.init_ops) with dtype is deprecated and will be removed in a future version.\n",
            "Instructions for updating:\n",
            "Call initializer instance with the dtype argument instead of passing it to the constructor\n"
          ],
          "name": "stdout"
        }
      ]
    },
    {
      "cell_type": "code",
      "metadata": {
        "colab_type": "code",
        "id": "xQlVd6gH2hi6",
        "colab": {
          "base_uri": "https://localhost:8080/",
          "height": 34
        },
        "outputId": "e9e99c04-e616-48ad-d923-75fd7e88e99f"
      },
      "source": [
        "from keras.datasets import mnist\n",
        "\n",
        "(x_trainMNIST, y_trainMNIST), (x_testMNIST, y_testMNIST) = mnist.load_data()\n",
        "x_trainMNIST = tf.keras.utils.normalize(x_trainMNIST, axis=1)\n",
        "x_testMNIST = tf.keras.utils.normalize(x_testMNIST, axis=1)\n"
      ],
      "execution_count": 2,
      "outputs": [
        {
          "output_type": "stream",
          "text": [
            "Using TensorFlow backend.\n"
          ],
          "name": "stderr"
        }
      ]
    },
    {
      "cell_type": "code",
      "metadata": {
        "colab_type": "code",
        "id": "Y_bul3BF2oqs",
        "outputId": "fc3725f0-70f4-42fb-d0e7-83191f64ac46",
        "colab": {
          "base_uri": "https://localhost:8080/",
          "height": 34
        }
      },
      "source": [
        "x_testMNIST.shape"
      ],
      "execution_count": 3,
      "outputs": [
        {
          "output_type": "execute_result",
          "data": {
            "text/plain": [
              "(10000, 28, 28)"
            ]
          },
          "metadata": {
            "tags": []
          },
          "execution_count": 3
        }
      ]
    },
    {
      "cell_type": "code",
      "metadata": {
        "colab_type": "code",
        "id": "DD59YfZU2pqK",
        "outputId": "56b8072d-2678-45eb-ef88-887c04d5596d",
        "colab": {
          "base_uri": "https://localhost:8080/",
          "height": 170
        }
      },
      "source": [
        "modelMNIST.fit(x_trainMNIST,y_trainMNIST, epochs=4)\n"
      ],
      "execution_count": 14,
      "outputs": [
        {
          "output_type": "stream",
          "text": [
            "Epoch 1/4\n",
            "60000/60000 [==============================] - 5s 86us/sample - loss: 0.0558 - acc: 0.9819\n",
            "Epoch 2/4\n",
            "60000/60000 [==============================] - 5s 85us/sample - loss: 0.0411 - acc: 0.9870\n",
            "Epoch 3/4\n",
            "60000/60000 [==============================] - 5s 82us/sample - loss: 0.0330 - acc: 0.9890\n",
            "Epoch 4/4\n",
            "60000/60000 [==============================] - 5s 87us/sample - loss: 0.0252 - acc: 0.9916\n"
          ],
          "name": "stdout"
        },
        {
          "output_type": "execute_result",
          "data": {
            "text/plain": [
              "<tensorflow.python.keras.callbacks.History at 0x7faf88851208>"
            ]
          },
          "metadata": {
            "tags": []
          },
          "execution_count": 14
        }
      ]
    },
    {
      "cell_type": "code",
      "metadata": {
        "colab_type": "code",
        "id": "JygQ6xZM2rKW",
        "outputId": "cf9d97ed-4095-4e72-dc92-f7c3d15fa5d9",
        "colab": {
          "base_uri": "https://localhost:8080/",
          "height": 34
        }
      },
      "source": [
        "val_lossMNIST, val_accMNIST = modelMNIST.evaluate(x_testMNIST,y_testMNIST)"
      ],
      "execution_count": 7,
      "outputs": [
        {
          "output_type": "stream",
          "text": [
            "10000/10000 [==============================] - 0s 33us/sample - loss: 0.1007 - acc: 0.9683\n"
          ],
          "name": "stdout"
        }
      ]
    },
    {
      "cell_type": "code",
      "metadata": {
        "colab_type": "code",
        "id": "Ik_C-FHB2vNB",
        "outputId": "6eadc20c-6c31-4a01-9210-3fba256041b8",
        "colab": {
          "base_uri": "https://localhost:8080/",
          "height": 34
        }
      },
      "source": [
        "print(\"loss:\",val_lossMNIST)\n",
        "predictionsMNIST = modelMNIST.predict(x_testMNIST)\n"
      ],
      "execution_count": 10,
      "outputs": [
        {
          "output_type": "stream",
          "text": [
            "loss: 0.10072047825437039\n"
          ],
          "name": "stdout"
        }
      ]
    },
    {
      "cell_type": "code",
      "metadata": {
        "colab_type": "code",
        "id": "VjBXbCRY20BB",
        "outputId": "d526b02c-0cad-4ef6-f57f-33907ebdf88b",
        "colab": {
          "base_uri": "https://localhost:8080/",
          "height": 286
        }
      },
      "source": [
        "\n",
        "import random\n",
        "indexMNIST = random.randint(0,999)\n",
        "import matplotlib.pyplot as plt\n",
        "plt.imshow(x_testMNIST[indexMNIST])\n",
        "plt.show()\n",
        "print(np.argmax(predictionsMNIST[indexMNIST]))\n"
      ],
      "execution_count": 13,
      "outputs": [
        {
          "output_type": "display_data",
          "data": {
            "image/png": "[encoded data removed]",
            "text/plain": [
              "<Figure size 432x288 with 1 Axes>"
            ]
          },
          "metadata": {
            "tags": []
          }
        },
        {
          "output_type": "stream",
          "text": [
            "8\n"
          ],
          "name": "stdout"
        }
      ]
    },
    {
      "cell_type": "markdown",
      "metadata": {
        "id": "33yd5hXMNOgn",
        "colab_type": "text"
      },
      "source": [
        "# MR BRAIN"
      ]
    },
    {
      "cell_type": "code",
      "metadata": {
        "colab_type": "code",
        "id": "DPbPVak1NWoK",
        "colab": {}
      },
      "source": [
        "import tensorflow as tf\n",
        "import numpy as np\n",
        "model = tf.keras.models.Sequential()\n",
        "model.add(tf.keras.layers.Flatten(input_shape=(32,32,1)))\n",
        "model.add(tf.keras.layers.Dense(128,activation=tf.nn.relu))\n",
        "model.add(tf.keras.layers.Dense(128,activation=tf.nn.relu))\n",
        "model.add(tf.keras.layers.Dense(2,activation=tf.nn.softmax))\n",
        "model.compile(optimizer='adam',\n",
        "              loss='sparse_categorical_crossentropy',\n",
        "              metrics=['accuracy'])"
      ],
      "execution_count": 0,
      "outputs": []
    },
    {
      "cell_type": "code",
      "metadata": {
        "id": "ZJWmxiSBMh4_",
        "colab_type": "code",
        "colab": {}
      },
      "source": [
        "x_train = np.load('mrbraintrainx.npy')\n",
        "y_train = np.load('mrbraintrainy.npy')\n",
        "x_test = np.load('mrbraintestx.npy')\n",
        "y_test = np.load('mrbraintesty.npy')\n",
        "\n",
        "x_train = tf.keras.utils.normalize(x_train, axis=1)\n",
        "x_test = tf.keras.utils.normalize(x_test, axis=1)"
      ],
      "execution_count": 0,
      "outputs": []
    },
    {
      "cell_type": "code",
      "metadata": {
        "id": "EPAvevY3N28d",
        "colab_type": "code",
        "colab": {
          "base_uri": "https://localhost:8080/",
          "height": 34
        },
        "outputId": "28d8d183-97d3-4bc8-e532-5f8d863db3da"
      },
      "source": [
        "len(x_test)"
      ],
      "execution_count": 43,
      "outputs": [
        {
          "output_type": "execute_result",
          "data": {
            "text/plain": [
              "20"
            ]
          },
          "metadata": {
            "tags": []
          },
          "execution_count": 43
        }
      ]
    },
    {
      "cell_type": "code",
      "metadata": {
        "id": "hXVG06yVN9tG",
        "colab_type": "code",
        "colab": {
          "base_uri": "https://localhost:8080/",
          "height": 1000
        },
        "outputId": "86ce8b88-9d78-4d7d-91d0-87ed52e7726c"
      },
      "source": [
        "#from keras.callbacks import ModelCheckpoint\n",
        "#filepath = \"saved-model-{epoch:02d}-{val_acc:.2f}.hdf5\"\n",
        "#checkpoint = ModelCheckpoint(filepath, monitor='val_acc', verbose=1, save_best_only=True, mode='max')\n",
        "#model.fit(x_train, y_train, validation_data=(x_test, y_test), epochs=150, batch_size=10, callbacks=[checkpoint], verbose=0)\n",
        "from keras.preprocessing.image import ImageDataGenerator\n",
        "x_train_augmented = x_train[:,:,:,np.newaxis]\n",
        "x_train_augmented.shape\n",
        "datagen = ImageDataGenerator(horizontal_flip = True)\n",
        "model.fit_generator(datagen.flow(x_train_augmented, y_train, batch_size=1000), steps_per_epoch=40, epochs=200)\n"
      ],
      "execution_count": 54,
      "outputs": [
        {
          "output_type": "stream",
          "text": [
            "Epoch 1/200\n",
            "40/40 [==============================] - 4s 99ms/step - loss: 0.4587 - acc: 0.7618\n",
            "Epoch 2/200\n",
            "40/40 [==============================] - 4s 101ms/step - loss: 0.4452 - acc: 0.7733\n",
            "Epoch 3/200\n",
            "40/40 [==============================] - 4s 101ms/step - loss: 0.4464 - acc: 0.7693\n",
            "Epoch 4/200\n",
            "40/40 [==============================] - 4s 101ms/step - loss: 0.4431 - acc: 0.7712\n",
            "Epoch 5/200\n",
            "40/40 [==============================] - 4s 101ms/step - loss: 0.4344 - acc: 0.7777\n",
            "Epoch 6/200\n",
            "40/40 [==============================] - 4s 101ms/step - loss: 0.4336 - acc: 0.7776\n",
            "Epoch 7/200\n",
            "40/40 [==============================] - 4s 101ms/step - loss: 0.4237 - acc: 0.7843\n",
            "Epoch 8/200\n",
            "40/40 [==============================] - 4s 101ms/step - loss: 0.4105 - acc: 0.7915\n",
            "Epoch 9/200\n",
            "40/40 [==============================] - 4s 101ms/step - loss: 0.4163 - acc: 0.7891\n",
            "Epoch 10/200\n",
            "40/40 [==============================] - 4s 101ms/step - loss: 0.3970 - acc: 0.8004\n",
            "Epoch 11/200\n",
            "40/40 [==============================] - 4s 101ms/step - loss: 0.3905 - acc: 0.8029\n",
            "Epoch 12/200\n",
            "40/40 [==============================] - 4s 101ms/step - loss: 0.3889 - acc: 0.8062\n",
            "Epoch 13/200\n",
            "40/40 [==============================] - 4s 101ms/step - loss: 0.3877 - acc: 0.8082\n",
            "Epoch 14/200\n",
            "40/40 [==============================] - 4s 101ms/step - loss: 0.3725 - acc: 0.8146\n",
            "Epoch 15/200\n",
            "40/40 [==============================] - 4s 101ms/step - loss: 0.3708 - acc: 0.8183\n",
            "Epoch 16/200\n",
            "40/40 [==============================] - 4s 101ms/step - loss: 0.3687 - acc: 0.8206\n",
            "Epoch 17/200\n",
            "40/40 [==============================] - 4s 101ms/step - loss: 0.3573 - acc: 0.8246\n",
            "Epoch 18/200\n",
            "40/40 [==============================] - 4s 101ms/step - loss: 0.3563 - acc: 0.8256\n",
            "Epoch 19/200\n",
            "40/40 [==============================] - 4s 101ms/step - loss: 0.3569 - acc: 0.8267\n",
            "Epoch 20/200\n",
            "40/40 [==============================] - 4s 101ms/step - loss: 0.3535 - acc: 0.8288\n",
            "Epoch 21/200\n",
            "40/40 [==============================] - 4s 101ms/step - loss: 0.3376 - acc: 0.8365\n",
            "Epoch 22/200\n",
            "40/40 [==============================] - 4s 101ms/step - loss: 0.3442 - acc: 0.8332\n",
            "Epoch 23/200\n",
            "40/40 [==============================] - 4s 101ms/step - loss: 0.3403 - acc: 0.8350\n",
            "Epoch 24/200\n",
            "40/40 [==============================] - 4s 101ms/step - loss: 0.3320 - acc: 0.8402\n",
            "Epoch 25/200\n",
            "40/40 [==============================] - 4s 101ms/step - loss: 0.3390 - acc: 0.8365\n",
            "Epoch 26/200\n",
            "40/40 [==============================] - 4s 101ms/step - loss: 0.3270 - acc: 0.8427\n",
            "Epoch 27/200\n",
            "40/40 [==============================] - 4s 101ms/step - loss: 0.3249 - acc: 0.8432\n",
            "Epoch 28/200\n",
            "40/40 [==============================] - 4s 101ms/step - loss: 0.3231 - acc: 0.8446\n",
            "Epoch 29/200\n",
            "40/40 [==============================] - 4s 101ms/step - loss: 0.3212 - acc: 0.8461\n",
            "Epoch 30/200\n",
            "40/40 [==============================] - 4s 101ms/step - loss: 0.3157 - acc: 0.8486\n",
            "Epoch 31/200\n",
            "40/40 [==============================] - 4s 101ms/step - loss: 0.3208 - acc: 0.8457\n",
            "Epoch 32/200\n",
            "40/40 [==============================] - 4s 101ms/step - loss: 0.3118 - acc: 0.8515\n",
            "Epoch 33/200\n",
            "40/40 [==============================] - 4s 101ms/step - loss: 0.3105 - acc: 0.8539\n",
            "Epoch 34/200\n",
            "40/40 [==============================] - 4s 101ms/step - loss: 0.3142 - acc: 0.8502\n",
            "Epoch 35/200\n",
            "40/40 [==============================] - 4s 101ms/step - loss: 0.2971 - acc: 0.8604\n",
            "Epoch 36/200\n",
            "40/40 [==============================] - 4s 101ms/step - loss: 0.3017 - acc: 0.8571\n",
            "Epoch 37/200\n",
            "40/40 [==============================] - 4s 101ms/step - loss: 0.3035 - acc: 0.8558\n",
            "Epoch 38/200\n",
            "40/40 [==============================] - 4s 101ms/step - loss: 0.3113 - acc: 0.8520\n",
            "Epoch 39/200\n",
            "40/40 [==============================] - 4s 101ms/step - loss: 0.2880 - acc: 0.8665\n",
            "Epoch 40/200\n",
            "40/40 [==============================] - 4s 101ms/step - loss: 0.2831 - acc: 0.8693\n",
            "Epoch 41/200\n",
            "40/40 [==============================] - 4s 101ms/step - loss: 0.2950 - acc: 0.8613\n",
            "Epoch 42/200\n",
            "40/40 [==============================] - 4s 101ms/step - loss: 0.3331 - acc: 0.8391\n",
            "Epoch 43/200\n",
            "40/40 [==============================] - 4s 101ms/step - loss: 0.2975 - acc: 0.8633\n",
            "Epoch 44/200\n",
            "40/40 [==============================] - 4s 101ms/step - loss: 0.2767 - acc: 0.8726\n",
            "Epoch 45/200\n",
            "40/40 [==============================] - 4s 101ms/step - loss: 0.2823 - acc: 0.8695\n",
            "Epoch 46/200\n",
            "40/40 [==============================] - 4s 101ms/step - loss: 0.2789 - acc: 0.8723\n",
            "Epoch 47/200\n",
            "40/40 [==============================] - 4s 101ms/step - loss: 0.2765 - acc: 0.8729\n",
            "Epoch 48/200\n",
            "40/40 [==============================] - 4s 101ms/step - loss: 0.2778 - acc: 0.8718\n",
            "Epoch 49/200\n",
            "40/40 [==============================] - 4s 101ms/step - loss: 0.3360 - acc: 0.8405\n",
            "Epoch 50/200\n",
            "40/40 [==============================] - 4s 101ms/step - loss: 0.2698 - acc: 0.8781\n",
            "Epoch 51/200\n",
            "40/40 [==============================] - 4s 101ms/step - loss: 0.2634 - acc: 0.8807\n",
            "Epoch 52/200\n",
            "40/40 [==============================] - 4s 101ms/step - loss: 0.2621 - acc: 0.8821\n",
            "Epoch 53/200\n",
            "40/40 [==============================] - 4s 101ms/step - loss: 0.2623 - acc: 0.8816\n",
            "Epoch 54/200\n",
            "40/40 [==============================] - 4s 101ms/step - loss: 0.2667 - acc: 0.8771\n",
            "Epoch 55/200\n",
            "40/40 [==============================] - 4s 101ms/step - loss: 0.2679 - acc: 0.8771\n",
            "Epoch 56/200\n",
            "40/40 [==============================] - 4s 101ms/step - loss: 0.2708 - acc: 0.8759\n",
            "Epoch 57/200\n",
            "40/40 [==============================] - 4s 101ms/step - loss: 0.2614 - acc: 0.8812\n",
            "Epoch 58/200\n",
            "40/40 [==============================] - 4s 101ms/step - loss: 0.2536 - acc: 0.8863\n",
            "Epoch 59/200\n",
            "40/40 [==============================] - 4s 101ms/step - loss: 0.2530 - acc: 0.8869\n",
            "Epoch 60/200\n",
            "40/40 [==============================] - 4s 101ms/step - loss: 0.2754 - acc: 0.8730\n",
            "Epoch 61/200\n",
            "40/40 [==============================] - 4s 101ms/step - loss: 0.2595 - acc: 0.8830\n",
            "Epoch 62/200\n",
            "40/40 [==============================] - 4s 101ms/step - loss: 0.2576 - acc: 0.8820\n",
            "Epoch 63/200\n",
            "40/40 [==============================] - 4s 101ms/step - loss: 0.2482 - acc: 0.8897\n",
            "Epoch 64/200\n",
            "40/40 [==============================] - 4s 101ms/step - loss: 0.2591 - acc: 0.8810\n",
            "Epoch 65/200\n",
            "40/40 [==============================] - 4s 101ms/step - loss: 0.2483 - acc: 0.8892\n",
            "Epoch 66/200\n",
            "40/40 [==============================] - 4s 101ms/step - loss: 0.2512 - acc: 0.8881\n",
            "Epoch 67/200\n",
            "40/40 [==============================] - 4s 101ms/step - loss: 0.2501 - acc: 0.8875\n",
            "Epoch 68/200\n",
            "40/40 [==============================] - 4s 101ms/step - loss: 0.2451 - acc: 0.8907\n",
            "Epoch 69/200\n",
            "40/40 [==============================] - 4s 101ms/step - loss: 0.2424 - acc: 0.8921\n",
            "Epoch 70/200\n",
            "40/40 [==============================] - 4s 101ms/step - loss: 0.2567 - acc: 0.8846\n",
            "Epoch 71/200\n",
            "40/40 [==============================] - 4s 101ms/step - loss: 0.2678 - acc: 0.8767\n",
            "Epoch 72/200\n",
            "40/40 [==============================] - 4s 101ms/step - loss: 0.2561 - acc: 0.8865\n",
            "Epoch 73/200\n",
            "40/40 [==============================] - 4s 101ms/step - loss: 0.2312 - acc: 0.8993\n",
            "Epoch 74/200\n",
            "40/40 [==============================] - 4s 101ms/step - loss: 0.2270 - acc: 0.9027\n",
            "Epoch 75/200\n",
            "40/40 [==============================] - 4s 101ms/step - loss: 0.2315 - acc: 0.8998\n",
            "Epoch 76/200\n",
            "40/40 [==============================] - 4s 101ms/step - loss: 0.2335 - acc: 0.8980\n",
            "Epoch 77/200\n",
            "40/40 [==============================] - 4s 101ms/step - loss: 0.2376 - acc: 0.8952\n",
            "Epoch 78/200\n",
            "40/40 [==============================] - 4s 101ms/step - loss: 0.2325 - acc: 0.8987\n",
            "Epoch 79/200\n",
            "40/40 [==============================] - 4s 101ms/step - loss: 0.2308 - acc: 0.8990\n",
            "Epoch 80/200\n",
            "40/40 [==============================] - 4s 101ms/step - loss: 0.2323 - acc: 0.8980\n",
            "Epoch 81/200\n",
            "40/40 [==============================] - 4s 101ms/step - loss: 0.2404 - acc: 0.8928\n",
            "Epoch 82/200\n",
            "40/40 [==============================] - 4s 101ms/step - loss: 0.2835 - acc: 0.8687\n",
            "Epoch 83/200\n",
            "40/40 [==============================] - 4s 101ms/step - loss: 0.2256 - acc: 0.9039\n",
            "Epoch 84/200\n",
            "40/40 [==============================] - 4s 101ms/step - loss: 0.2132 - acc: 0.9112\n",
            "Epoch 85/200\n",
            "40/40 [==============================] - 4s 101ms/step - loss: 0.2108 - acc: 0.9135\n",
            "Epoch 86/200\n",
            "40/40 [==============================] - 4s 101ms/step - loss: 0.2106 - acc: 0.9144\n",
            "Epoch 87/200\n",
            "40/40 [==============================] - 4s 101ms/step - loss: 0.2202 - acc: 0.9056\n",
            "Epoch 88/200\n",
            "40/40 [==============================] - 4s 101ms/step - loss: 0.2265 - acc: 0.9014\n",
            "Epoch 89/200\n",
            "40/40 [==============================] - 4s 101ms/step - loss: 0.2160 - acc: 0.9085\n",
            "Epoch 90/200\n",
            "40/40 [==============================] - 4s 101ms/step - loss: 0.2176 - acc: 0.9077\n",
            "Epoch 91/200\n",
            "40/40 [==============================] - 4s 101ms/step - loss: 0.2218 - acc: 0.9038\n",
            "Epoch 92/200\n",
            "40/40 [==============================] - 4s 101ms/step - loss: 0.2098 - acc: 0.9122\n",
            "Epoch 93/200\n",
            "40/40 [==============================] - 4s 101ms/step - loss: 0.2127 - acc: 0.9102\n",
            "Epoch 94/200\n",
            "40/40 [==============================] - 4s 101ms/step - loss: 0.2497 - acc: 0.8899\n",
            "Epoch 95/200\n",
            "40/40 [==============================] - 4s 101ms/step - loss: 0.2014 - acc: 0.9174\n",
            "Epoch 96/200\n",
            "40/40 [==============================] - 4s 101ms/step - loss: 0.2009 - acc: 0.9178\n",
            "Epoch 97/200\n",
            "40/40 [==============================] - 4s 101ms/step - loss: 0.2117 - acc: 0.9114\n",
            "Epoch 98/200\n",
            "40/40 [==============================] - 4s 101ms/step - loss: 0.1966 - acc: 0.9206\n",
            "Epoch 99/200\n",
            "40/40 [==============================] - 4s 101ms/step - loss: 0.2038 - acc: 0.9152\n",
            "Epoch 100/200\n",
            "40/40 [==============================] - 4s 101ms/step - loss: 0.4245 - acc: 0.8086\n",
            "Epoch 101/200\n",
            "40/40 [==============================] - 4s 101ms/step - loss: 0.3059 - acc: 0.8591\n",
            "Epoch 102/200\n",
            "40/40 [==============================] - 4s 101ms/step - loss: 0.2610 - acc: 0.8910\n",
            "Epoch 103/200\n",
            "40/40 [==============================] - 4s 101ms/step - loss: 0.2483 - acc: 0.9016\n",
            "Epoch 104/200\n",
            "40/40 [==============================] - 4s 101ms/step - loss: 0.2431 - acc: 0.9046\n",
            "Epoch 105/200\n",
            "40/40 [==============================] - 4s 101ms/step - loss: 0.2378 - acc: 0.9063\n",
            "Epoch 106/200\n",
            "40/40 [==============================] - 4s 101ms/step - loss: 0.2350 - acc: 0.9088\n",
            "Epoch 107/200\n",
            "40/40 [==============================] - 4s 101ms/step - loss: 0.2306 - acc: 0.9106\n",
            "Epoch 108/200\n",
            "40/40 [==============================] - 4s 101ms/step - loss: 0.2319 - acc: 0.9099\n",
            "Epoch 109/200\n",
            "40/40 [==============================] - 4s 101ms/step - loss: 0.2350 - acc: 0.9066\n",
            "Epoch 110/200\n",
            "40/40 [==============================] - 4s 101ms/step - loss: 0.2374 - acc: 0.9038\n",
            "Epoch 111/200\n",
            "40/40 [==============================] - 4s 101ms/step - loss: 0.2567 - acc: 0.8884\n",
            "Epoch 112/200\n",
            "40/40 [==============================] - 4s 101ms/step - loss: 0.2204 - acc: 0.9182\n",
            "Epoch 113/200\n",
            "40/40 [==============================] - 4s 101ms/step - loss: 0.2187 - acc: 0.9180\n",
            "Epoch 114/200\n",
            "40/40 [==============================] - 4s 101ms/step - loss: 0.2227 - acc: 0.9134\n",
            "Epoch 115/200\n",
            "40/40 [==============================] - 4s 101ms/step - loss: 0.2270 - acc: 0.9093\n",
            "Epoch 116/200\n",
            "40/40 [==============================] - 4s 101ms/step - loss: 0.2287 - acc: 0.9075\n",
            "Epoch 117/200\n",
            "40/40 [==============================] - 4s 101ms/step - loss: 0.2114 - acc: 0.9209\n",
            "Epoch 118/200\n",
            "40/40 [==============================] - 4s 101ms/step - loss: 0.2212 - acc: 0.9104\n",
            "Epoch 119/200\n",
            "40/40 [==============================] - 4s 101ms/step - loss: 0.2285 - acc: 0.9046\n",
            "Epoch 120/200\n",
            "40/40 [==============================] - 4s 101ms/step - loss: 0.2068 - acc: 0.9216\n",
            "Epoch 121/200\n",
            "40/40 [==============================] - 4s 101ms/step - loss: 0.2137 - acc: 0.9145\n",
            "Epoch 122/200\n",
            "40/40 [==============================] - 4s 101ms/step - loss: 0.2160 - acc: 0.9135\n",
            "Epoch 123/200\n",
            "40/40 [==============================] - 4s 101ms/step - loss: 0.2006 - acc: 0.9240\n",
            "Epoch 124/200\n",
            "40/40 [==============================] - 4s 101ms/step - loss: 0.2392 - acc: 0.8953\n",
            "Epoch 125/200\n",
            "40/40 [==============================] - 4s 101ms/step - loss: 0.1949 - acc: 0.9267\n",
            "Epoch 126/200\n",
            "40/40 [==============================] - 4s 101ms/step - loss: 0.1910 - acc: 0.9284\n",
            "Epoch 127/200\n",
            "40/40 [==============================] - 4s 101ms/step - loss: 0.2095 - acc: 0.9157\n",
            "Epoch 128/200\n",
            "40/40 [==============================] - 4s 101ms/step - loss: 0.1947 - acc: 0.9269\n",
            "Epoch 129/200\n",
            "40/40 [==============================] - 4s 101ms/step - loss: 0.1966 - acc: 0.9241\n",
            "Epoch 130/200\n",
            "40/40 [==============================] - 4s 101ms/step - loss: 0.2004 - acc: 0.9201\n",
            "Epoch 131/200\n",
            "40/40 [==============================] - 4s 101ms/step - loss: 0.1983 - acc: 0.9220\n",
            "Epoch 132/200\n",
            "40/40 [==============================] - 4s 101ms/step - loss: 0.2232 - acc: 0.9061\n",
            "Epoch 133/200\n",
            "40/40 [==============================] - 4s 101ms/step - loss: 0.1811 - acc: 0.9343\n",
            "Epoch 134/200\n",
            "40/40 [==============================] - 4s 101ms/step - loss: 0.1875 - acc: 0.9298\n",
            "Epoch 135/200\n",
            "40/40 [==============================] - 4s 101ms/step - loss: 0.1863 - acc: 0.9302\n",
            "Epoch 136/200\n",
            "40/40 [==============================] - 4s 101ms/step - loss: 0.1819 - acc: 0.9322\n",
            "Epoch 137/200\n",
            "40/40 [==============================] - 4s 101ms/step - loss: 0.1738 - acc: 0.9387\n",
            "Epoch 138/200\n",
            "40/40 [==============================] - 4s 101ms/step - loss: 0.2040 - acc: 0.9153\n",
            "Epoch 139/200\n",
            "40/40 [==============================] - 4s 101ms/step - loss: 0.1746 - acc: 0.9379\n",
            "Epoch 140/200\n",
            "40/40 [==============================] - 4s 101ms/step - loss: 0.1969 - acc: 0.9215\n",
            "Epoch 141/200\n",
            "40/40 [==============================] - 4s 101ms/step - loss: 0.1854 - acc: 0.9286\n",
            "Epoch 142/200\n",
            "40/40 [==============================] - 4s 101ms/step - loss: 0.1691 - acc: 0.9406\n",
            "Epoch 143/200\n",
            "40/40 [==============================] - 4s 101ms/step - loss: 0.1730 - acc: 0.9358\n",
            "Epoch 144/200\n",
            "40/40 [==============================] - 4s 101ms/step - loss: 0.1803 - acc: 0.9300\n",
            "Epoch 145/200\n",
            "40/40 [==============================] - 4s 101ms/step - loss: 0.1689 - acc: 0.9386\n",
            "Epoch 146/200\n",
            "40/40 [==============================] - 4s 101ms/step - loss: 0.1722 - acc: 0.9366\n",
            "Epoch 147/200\n",
            "40/40 [==============================] - 4s 101ms/step - loss: 0.2270 - acc: 0.9067\n",
            "Epoch 148/200\n",
            "40/40 [==============================] - 4s 101ms/step - loss: 0.1773 - acc: 0.9314\n",
            "Epoch 149/200\n",
            "40/40 [==============================] - 4s 101ms/step - loss: 0.1568 - acc: 0.9467\n",
            "Epoch 150/200\n",
            "40/40 [==============================] - 4s 101ms/step - loss: 0.1588 - acc: 0.9445\n",
            "Epoch 151/200\n",
            "40/40 [==============================] - 4s 101ms/step - loss: 0.1547 - acc: 0.9474\n",
            "Epoch 152/200\n",
            "40/40 [==============================] - 4s 101ms/step - loss: 0.1682 - acc: 0.9371\n",
            "Epoch 153/200\n",
            "40/40 [==============================] - 4s 101ms/step - loss: 0.1592 - acc: 0.9438\n",
            "Epoch 154/200\n",
            "40/40 [==============================] - 4s 101ms/step - loss: 0.1741 - acc: 0.9326\n",
            "Epoch 155/200\n",
            "40/40 [==============================] - 4s 101ms/step - loss: 0.1520 - acc: 0.9469\n",
            "Epoch 156/200\n",
            "40/40 [==============================] - 4s 101ms/step - loss: 0.1980 - acc: 0.9148\n",
            "Epoch 157/200\n",
            "40/40 [==============================] - 4s 101ms/step - loss: 0.1522 - acc: 0.9464\n",
            "Epoch 158/200\n",
            "40/40 [==============================] - 4s 101ms/step - loss: 0.1595 - acc: 0.9427\n",
            "Epoch 159/200\n",
            "40/40 [==============================] - 4s 101ms/step - loss: 0.1519 - acc: 0.9463\n",
            "Epoch 160/200\n",
            "40/40 [==============================] - 4s 101ms/step - loss: 0.1462 - acc: 0.9499\n",
            "Epoch 161/200\n",
            "40/40 [==============================] - 4s 101ms/step - loss: 0.1443 - acc: 0.9513\n",
            "Epoch 162/200\n",
            "40/40 [==============================] - 4s 101ms/step - loss: 0.3457 - acc: 0.8964\n",
            "Epoch 163/200\n",
            "40/40 [==============================] - 4s 101ms/step - loss: 0.8240 - acc: 0.7140\n",
            "Epoch 164/200\n",
            "40/40 [==============================] - 4s 101ms/step - loss: 0.3324 - acc: 0.8570\n",
            "Epoch 165/200\n",
            "40/40 [==============================] - 4s 101ms/step - loss: 0.2701 - acc: 0.8912\n",
            "Epoch 166/200\n",
            "40/40 [==============================] - 4s 101ms/step - loss: 0.2488 - acc: 0.9065\n",
            "Epoch 167/200\n",
            "40/40 [==============================] - 4s 101ms/step - loss: 0.2349 - acc: 0.9131\n",
            "Epoch 168/200\n",
            "40/40 [==============================] - 4s 101ms/step - loss: 0.2136 - acc: 0.9279\n",
            "Epoch 169/200\n",
            "40/40 [==============================] - 4s 101ms/step - loss: 0.2003 - acc: 0.9346\n",
            "Epoch 170/200\n",
            "40/40 [==============================] - 4s 101ms/step - loss: 0.1937 - acc: 0.9374\n",
            "Epoch 171/200\n",
            "40/40 [==============================] - 4s 101ms/step - loss: 0.1904 - acc: 0.9387\n",
            "Epoch 172/200\n",
            "40/40 [==============================] - 4s 101ms/step - loss: 0.1874 - acc: 0.9391\n",
            "Epoch 173/200\n",
            "40/40 [==============================] - 4s 101ms/step - loss: 0.1828 - acc: 0.9411\n",
            "Epoch 174/200\n",
            "40/40 [==============================] - 4s 101ms/step - loss: 0.1774 - acc: 0.9431\n",
            "Epoch 175/200\n",
            "40/40 [==============================] - 4s 101ms/step - loss: 0.1835 - acc: 0.9367\n",
            "Epoch 176/200\n",
            "40/40 [==============================] - 4s 101ms/step - loss: 0.1723 - acc: 0.9448\n",
            "Epoch 177/200\n",
            "40/40 [==============================] - 4s 101ms/step - loss: 0.1742 - acc: 0.9421\n",
            "Epoch 178/200\n",
            "40/40 [==============================] - 4s 101ms/step - loss: 0.1672 - acc: 0.9456\n",
            "Epoch 179/200\n",
            "40/40 [==============================] - 4s 101ms/step - loss: 0.1764 - acc: 0.9363\n",
            "Epoch 180/200\n",
            "40/40 [==============================] - 4s 101ms/step - loss: 0.1696 - acc: 0.9422\n",
            "Epoch 181/200\n",
            "40/40 [==============================] - 4s 101ms/step - loss: 0.1612 - acc: 0.9471\n",
            "Epoch 182/200\n",
            "40/40 [==============================] - 4s 101ms/step - loss: 0.1766 - acc: 0.9345\n",
            "Epoch 183/200\n",
            "40/40 [==============================] - 4s 101ms/step - loss: 0.1611 - acc: 0.9447\n",
            "Epoch 184/200\n",
            "40/40 [==============================] - 4s 101ms/step - loss: 0.1550 - acc: 0.9489\n",
            "Epoch 185/200\n",
            "40/40 [==============================] - 4s 101ms/step - loss: 0.1565 - acc: 0.9476\n",
            "Epoch 186/200\n",
            "40/40 [==============================] - 4s 101ms/step - loss: 0.1581 - acc: 0.9453\n",
            "Epoch 187/200\n",
            "40/40 [==============================] - 4s 101ms/step - loss: 0.5233 - acc: 0.7973\n",
            "Epoch 188/200\n",
            "40/40 [==============================] - 4s 101ms/step - loss: 0.1969 - acc: 0.9287\n",
            "Epoch 189/200\n",
            "40/40 [==============================] - 4s 101ms/step - loss: 0.1730 - acc: 0.9443\n",
            "Epoch 190/200\n",
            "40/40 [==============================] - 4s 101ms/step - loss: 0.1702 - acc: 0.9447\n",
            "Epoch 191/200\n",
            "40/40 [==============================] - 4s 101ms/step - loss: 0.1654 - acc: 0.9465\n",
            "Epoch 192/200\n",
            "40/40 [==============================] - 4s 102ms/step - loss: 0.1635 - acc: 0.9471\n",
            "Epoch 193/200\n",
            "40/40 [==============================] - 4s 101ms/step - loss: 0.1591 - acc: 0.9483\n",
            "Epoch 194/200\n",
            "40/40 [==============================] - 4s 101ms/step - loss: 0.1622 - acc: 0.9471\n",
            "Epoch 195/200\n",
            "40/40 [==============================] - 4s 102ms/step - loss: 0.1580 - acc: 0.9484\n",
            "Epoch 196/200\n",
            "40/40 [==============================] - 4s 101ms/step - loss: 0.1537 - acc: 0.9510\n",
            "Epoch 197/200\n",
            "40/40 [==============================] - 4s 101ms/step - loss: 0.1501 - acc: 0.9521\n",
            "Epoch 198/200\n",
            "40/40 [==============================] - 4s 101ms/step - loss: 0.1601 - acc: 0.9442\n",
            "Epoch 199/200\n",
            "40/40 [==============================] - 4s 101ms/step - loss: 0.1469 - acc: 0.9539\n",
            "Epoch 200/200\n",
            "40/40 [==============================] - 4s 101ms/step - loss: 0.1520 - acc: 0.9505\n"
          ],
          "name": "stdout"
        },
        {
          "output_type": "execute_result",
          "data": {
            "text/plain": [
              "<tensorflow.python.keras.callbacks.History at 0x7f1c7367bb70>"
            ]
          },
          "metadata": {
            "tags": []
          },
          "execution_count": 54
        }
      ]
    },
    {
      "cell_type": "code",
      "metadata": {
        "id": "bMQwXHsSOAGn",
        "colab_type": "code",
        "colab": {
          "base_uri": "https://localhost:8080/",
          "height": 34
        },
        "outputId": "eaacc472-ced4-4131-f9ed-913cd088f46d"
      },
      "source": [
        "x_test_augmented = x_test[:,:,:,np.newaxis]\n",
        "val_loss, val_acc = model.evaluate(x_test_augmented,y_test)"
      ],
      "execution_count": 55,
      "outputs": [
        {
          "output_type": "stream",
          "text": [
            "\r20/20 [==============================] - 0s 115us/sample - loss: 1.0444 - acc: 0.7500\n"
          ],
          "name": "stdout"
        }
      ]
    },
    {
      "cell_type": "code",
      "metadata": {
        "id": "H-shhLHZPFLV",
        "colab_type": "code",
        "colab": {
          "base_uri": "https://localhost:8080/",
          "height": 34
        },
        "outputId": "07fd9841-be59-42db-da71-049bb85ab107"
      },
      "source": [
        "print(\"loss:\",val_loss)\n",
        "predictions = model.predict(x_test_augmented)\n"
      ],
      "execution_count": 56,
      "outputs": [
        {
          "output_type": "stream",
          "text": [
            "loss: 1.0444376468658447\n"
          ],
          "name": "stdout"
        }
      ]
    },
    {
      "cell_type": "code",
      "metadata": {
        "id": "RQf8UafCPHZj",
        "colab_type": "code",
        "colab": {
          "base_uri": "https://localhost:8080/",
          "height": 286
        },
        "outputId": "658c19a8-b144-4310-c9fb-2824edce62ce"
      },
      "source": [
        "import random\n",
        "index = random.randint(0,19)\n",
        "import matplotlib.pyplot as plt\n",
        "plt.imshow(x_test[index], cmap='gray')\n",
        "plt.show()\n",
        "print(np.argmax(predictions[index]))"
      ],
      "execution_count": 57,
      "outputs": [
        {
          "output_type": "display_data",
          "data": {
            "image/png": "[encoded data removed]",
            "text/plain": [
              "<Figure size 432x288 with 1 Axes>"
            ]
          },
          "metadata": {
            "tags": []
          }
        },
        {
          "output_type": "stream",
          "text": [
            "1\n"
          ],
          "name": "stdout"
        }
      ]
    },
    {
      "cell_type": "code",
      "metadata": {
        "id": "uwO1YK_wE9RY",
        "colab_type": "code",
        "colab": {}
      },
      "source": [
        ""
      ],
      "execution_count": 0,
      "outputs": []
    },
    {
      "cell_type": "code",
      "metadata": {
        "id": "n3VbwzAq1vlr",
        "colab_type": "code",
        "colab": {}
      },
      "source": [
        ""
      ],
      "execution_count": 0,
      "outputs": []
    }
  ]
}