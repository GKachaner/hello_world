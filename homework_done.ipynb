{
  "nbformat": 4,
  "nbformat_minor": 0,
  "metadata": {
    "colab": {
      "name": "Bienvenue dans Colaboratory",
      "provenance": [],
      "collapsed_sections": [],
      "toc_visible": true
    },
    "kernelspec": {
      "display_name": "Python 3",
      "language": "python",
      "name": "python3"
    },
    "language_info": {
      "codemirror_mode": {
        "name": "ipython",
        "version": 3
      },
      "file_extension": ".py",
      "mimetype": "text/x-python",
      "name": "python",
      "nbconvert_exporter": "python",
      "pygments_lexer": "ipython3",
      "version": "3.7.3"
    }
  },
  "cells": [
    {
      "cell_type": "markdown",
      "metadata": {
        "colab_type": "text",
        "id": "GcsY9Yhr2Wki"
      },
      "source": [
        "# MNIST\n"
      ]
    },
    {
      "cell_type": "code",
      "metadata": {
        "colab_type": "code",
        "id": "S4NfjZf82cdX",
        "outputId": "a65a6cec-96e7-41cc-e2e8-8ec0403d51a1",
        "colab": {
          "base_uri": "https://localhost:8080/",
          "height": 88
        }
      },
      "source": [
        "import tensorflow as tf\n",
        "import numpy as np\n",
        "modelMNIST = tf.keras.models.Sequential()\n",
        "modelMNIST.add(tf.keras.layers.Flatten())\n",
        "modelMNIST.add(tf.keras.layers.Dense(128,activation=tf.nn.relu))\n",
        "modelMNIST.add(tf.keras.layers.Dense(128,activation=tf.nn.relu))\n",
        "modelMNIST.add(tf.keras.layers.Dense(10,activation=tf.nn.softmax))\n",
        "modelMNIST.compile(optimizer='adam',\n",
        "              loss='sparse_categorical_crossentropy',\n",
        "              metrics=['accuracy'])\n"
      ],
      "execution_count": 1,
      "outputs": [
        {
          "output_type": "stream",
          "text": [
            "WARNING:tensorflow:From /usr/local/lib/python3.6/dist-packages/tensorflow/python/ops/init_ops.py:1251: calling VarianceScaling.__init__ (from tensorflow.python.ops.init_ops) with dtype is deprecated and will be removed in a future version.\n",
            "Instructions for updating:\n",
            "Call initializer instance with the dtype argument instead of passing it to the constructor\n"
          ],
          "name": "stdout"
        }
      ]
    },
    {
      "cell_type": "code",
      "metadata": {
        "colab_type": "code",
        "id": "xQlVd6gH2hi6",
        "outputId": "0eeb6230-7259-40c5-e64a-fa2cc35e2a28",
        "colab": {
          "base_uri": "https://localhost:8080/",
          "height": 34
        }
      },
      "source": [
        "from keras.datasets import mnist\n",
        "\n",
        "(x_trainMNIST, y_trainMNIST), (x_testMNIST, y_testMNIST) = mnist.load_data()\n",
        "x_trainMNIST = tf.keras.utils.normalize(x_trainMNIST, axis=1)\n",
        "x_testMNIST = tf.keras.utils.normalize(x_testMNIST, axis=1)\n"
      ],
      "execution_count": 2,
      "outputs": [
        {
          "output_type": "stream",
          "text": [
            "Using TensorFlow backend.\n"
          ],
          "name": "stderr"
        }
      ]
    },
    {
      "cell_type": "code",
      "metadata": {
        "colab_type": "code",
        "id": "Y_bul3BF2oqs",
        "outputId": "859f1ba6-77d7-404e-82c4-f999085a4e39",
        "colab": {
          "base_uri": "https://localhost:8080/",
          "height": 34
        }
      },
      "source": [
        "x_testMNIST.shape"
      ],
      "execution_count": 3,
      "outputs": [
        {
          "output_type": "execute_result",
          "data": {
            "text/plain": [
              "(10000, 28, 28)"
            ]
          },
          "metadata": {
            "tags": []
          },
          "execution_count": 3
        }
      ]
    },
    {
      "cell_type": "code",
      "metadata": {
        "colab_type": "code",
        "id": "DD59YfZU2pqK",
        "outputId": "6eb95027-f3b5-48bd-cc1d-9ddd1617a832",
        "colab": {
          "base_uri": "https://localhost:8080/",
          "height": 136
        }
      },
      "source": [
        "modelMNIST.fit(x_trainMNIST,y_trainMNIST, epochs=3)\n"
      ],
      "execution_count": 4,
      "outputs": [
        {
          "output_type": "stream",
          "text": [
            "Epoch 1/3\n",
            "60000/60000 [==============================] - 4s 71us/sample - loss: 0.2655 - acc: 0.9217\n",
            "Epoch 2/3\n",
            "60000/60000 [==============================] - 4s 69us/sample - loss: 0.1081 - acc: 0.9668\n",
            "Epoch 3/3\n",
            "60000/60000 [==============================] - 4s 68us/sample - loss: 0.0736 - acc: 0.9764\n"
          ],
          "name": "stdout"
        },
        {
          "output_type": "execute_result",
          "data": {
            "text/plain": [
              "<tensorflow.python.keras.callbacks.History at 0x7f0e62472e80>"
            ]
          },
          "metadata": {
            "tags": []
          },
          "execution_count": 4
        }
      ]
    },
    {
      "cell_type": "code",
      "metadata": {
        "colab_type": "code",
        "id": "JygQ6xZM2rKW",
        "outputId": "60ccfe5b-6040-450a-a7a1-a462e4009e71",
        "colab": {
          "base_uri": "https://localhost:8080/",
          "height": 34
        }
      },
      "source": [
        "val_lossMNIST, val_accMNIST = modelMNIST.evaluate(x_testMNIST,y_testMNIST)"
      ],
      "execution_count": 5,
      "outputs": [
        {
          "output_type": "stream",
          "text": [
            "10000/10000 [==============================] - 0s 32us/sample - loss: 0.1080 - acc: 0.9673\n"
          ],
          "name": "stdout"
        }
      ]
    },
    {
      "cell_type": "code",
      "metadata": {
        "colab_type": "code",
        "id": "Ik_C-FHB2vNB",
        "outputId": "a51df1b1-814b-48e1-af13-fac1d6f0cb71",
        "colab": {
          "base_uri": "https://localhost:8080/",
          "height": 34
        }
      },
      "source": [
        "print(\"loss:\",val_lossMNIST)\n",
        "predictionsMNIST = modelMNIST.predict(x_testMNIST)\n"
      ],
      "execution_count": 6,
      "outputs": [
        {
          "output_type": "stream",
          "text": [
            "loss: 0.10798338177073746\n"
          ],
          "name": "stdout"
        }
      ]
    },
    {
      "cell_type": "code",
      "metadata": {
        "colab_type": "code",
        "id": "VjBXbCRY20BB",
        "outputId": "d54a6c79-3796-4e3e-dd81-31c0ad95196d",
        "colab": {
          "base_uri": "https://localhost:8080/",
          "height": 286
        }
      },
      "source": [
        "\n",
        "import random\n",
        "indexMNIST = random.randint(0,999)\n",
        "import matplotlib.pyplot as plt\n",
        "plt.imshow(x_testMNIST[indexMNIST])\n",
        "plt.show()\n",
        "print(np.argmax(predictionsMNIST[indexMNIST]))\n"
      ],
      "execution_count": 7,
      "outputs": [
        {
          "output_type": "display_data",
          "data": {
            "image/png": "[encoded data removed]",
            "text/plain": [
              "<Figure size 432x288 with 1 Axes>"
            ]
          },
          "metadata": {
            "tags": []
          }
        },
        {
          "output_type": "stream",
          "text": [
            "2\n"
          ],
          "name": "stdout"
        }
      ]
    },
    {
      "cell_type": "markdown",
      "metadata": {
        "colab_type": "text",
        "id": "ZmfMZ_Uaq-r0"
      },
      "source": [
        "# MR BRAIN WITHOUT DATA AUGMENTATION\n"
      ]
    },
    {
      "cell_type": "code",
      "metadata": {
        "colab_type": "code",
        "id": "06rWGhVOq-r4",
        "colab": {}
      },
      "source": [
        "import tensorflow as tf\n",
        "import numpy as np\n",
        "model = tf.keras.models.Sequential()\n",
        "model.add(tf.keras.layers.Flatten())\n",
        "model.add(tf.keras.layers.Dense(128,activation=tf.nn.relu))\n",
        "model.add(tf.keras.layers.Dense(128,activation=tf.nn.relu))\n",
        "model.add(tf.keras.layers.Dense(2,activation=tf.nn.softmax))\n",
        "model.compile(optimizer='adam',\n",
        "              loss='sparse_categorical_crossentropy',\n",
        "              metrics=['accuracy'])\n",
        "\n",
        "x_train = np.load('mrbraintrainx.npy')\n",
        "y_train = np.load('mrbraintrainy.npy')\n",
        "x_test = np.load('mrbraintestx.npy')\n",
        "y_test = np.load('mrbraintesty.npy')\n",
        "\n",
        "x_train = tf.keras.utils.normalize(x_train, axis=1)\n",
        "x_test = tf.keras.utils.normalize(x_test, axis=1)"
      ],
      "execution_count": 0,
      "outputs": []
    },
    {
      "cell_type": "code",
      "metadata": {
        "colab_type": "code",
        "outputId": "4efa5006-a59a-49b2-b4eb-8c9e6213bc7d",
        "id": "XrxvNtevq-r7",
        "colab": {
          "base_uri": "https://localhost:8080/",
          "height": 1000
        }
      },
      "source": [
        "from keras.callbacks import ModelCheckpoint\n",
        "filepath = \"saved-model-{epoch:02d}-{val_acc:.2f}-no-aug.hdf5\"\n",
        "checkpoint = ModelCheckpoint(filepath, monitor='val_acc', verbose=1, save_best_only=True, mode='max')\n",
        "model.fit(x_train, y_train, validation_data=(x_test, y_test), epochs=150, batch_size=10, callbacks=[checkpoint], verbose=0)\n",
        "\n"
      ],
      "execution_count": 27,
      "outputs": [
        {
          "output_type": "stream",
          "text": [
            "\n",
            "Epoch 00001: val_acc improved from -inf to 0.45000, saving model to saved-model-01-0.45-no-aug.hdf5\n",
            "\n",
            "Epoch 00002: val_acc did not improve from 0.45000\n",
            "\n",
            "Epoch 00003: val_acc improved from 0.45000 to 0.50000, saving model to saved-model-03-0.50-no-aug.hdf5\n",
            "\n",
            "Epoch 00004: val_acc did not improve from 0.50000\n",
            "\n",
            "Epoch 00005: val_acc did not improve from 0.50000\n",
            "\n",
            "Epoch 00006: val_acc did not improve from 0.50000\n",
            "\n",
            "Epoch 00007: val_acc did not improve from 0.50000\n",
            "\n",
            "Epoch 00008: val_acc did not improve from 0.50000\n",
            "\n",
            "Epoch 00009: val_acc did not improve from 0.50000\n",
            "\n",
            "Epoch 00010: val_acc did not improve from 0.50000\n",
            "\n",
            "Epoch 00011: val_acc did not improve from 0.50000\n",
            "\n",
            "Epoch 00012: val_acc did not improve from 0.50000\n",
            "\n",
            "Epoch 00013: val_acc did not improve from 0.50000\n",
            "\n",
            "Epoch 00014: val_acc did not improve from 0.50000\n",
            "\n",
            "Epoch 00015: val_acc did not improve from 0.50000\n",
            "\n",
            "Epoch 00016: val_acc did not improve from 0.50000\n",
            "\n",
            "Epoch 00017: val_acc did not improve from 0.50000\n",
            "\n",
            "Epoch 00018: val_acc did not improve from 0.50000\n",
            "\n",
            "Epoch 00019: val_acc did not improve from 0.50000\n",
            "\n",
            "Epoch 00020: val_acc did not improve from 0.50000\n",
            "\n",
            "Epoch 00021: val_acc improved from 0.50000 to 0.55000, saving model to saved-model-21-0.55-no-aug.hdf5\n",
            "\n",
            "Epoch 00022: val_acc did not improve from 0.55000\n",
            "\n",
            "Epoch 00023: val_acc did not improve from 0.55000\n",
            "\n",
            "Epoch 00024: val_acc did not improve from 0.55000\n",
            "\n",
            "Epoch 00025: val_acc did not improve from 0.55000\n",
            "\n",
            "Epoch 00026: val_acc did not improve from 0.55000\n",
            "\n",
            "Epoch 00027: val_acc did not improve from 0.55000\n",
            "\n",
            "Epoch 00028: val_acc improved from 0.55000 to 0.65000, saving model to saved-model-28-0.65-no-aug.hdf5\n",
            "\n",
            "Epoch 00029: val_acc did not improve from 0.65000\n",
            "\n",
            "Epoch 00030: val_acc did not improve from 0.65000\n",
            "\n",
            "Epoch 00031: val_acc did not improve from 0.65000\n",
            "\n",
            "Epoch 00032: val_acc did not improve from 0.65000\n",
            "\n",
            "Epoch 00033: val_acc did not improve from 0.65000\n",
            "\n",
            "Epoch 00034: val_acc did not improve from 0.65000\n",
            "\n",
            "Epoch 00035: val_acc did not improve from 0.65000\n",
            "\n",
            "Epoch 00036: val_acc did not improve from 0.65000\n",
            "\n",
            "Epoch 00037: val_acc did not improve from 0.65000\n",
            "\n",
            "Epoch 00038: val_acc did not improve from 0.65000\n",
            "\n",
            "Epoch 00039: val_acc did not improve from 0.65000\n",
            "\n",
            "Epoch 00040: val_acc did not improve from 0.65000\n",
            "\n",
            "Epoch 00041: val_acc did not improve from 0.65000\n",
            "\n",
            "Epoch 00042: val_acc did not improve from 0.65000\n",
            "\n",
            "Epoch 00043: val_acc did not improve from 0.65000\n",
            "\n",
            "Epoch 00044: val_acc did not improve from 0.65000\n",
            "\n",
            "Epoch 00045: val_acc did not improve from 0.65000\n",
            "\n",
            "Epoch 00046: val_acc did not improve from 0.65000\n",
            "\n",
            "Epoch 00047: val_acc did not improve from 0.65000\n",
            "\n",
            "Epoch 00048: val_acc did not improve from 0.65000\n",
            "\n",
            "Epoch 00049: val_acc did not improve from 0.65000\n",
            "\n",
            "Epoch 00050: val_acc did not improve from 0.65000\n",
            "\n",
            "Epoch 00051: val_acc did not improve from 0.65000\n",
            "\n",
            "Epoch 00052: val_acc did not improve from 0.65000\n",
            "\n",
            "Epoch 00053: val_acc did not improve from 0.65000\n",
            "\n",
            "Epoch 00054: val_acc did not improve from 0.65000\n",
            "\n",
            "Epoch 00055: val_acc did not improve from 0.65000\n",
            "\n",
            "Epoch 00056: val_acc did not improve from 0.65000\n",
            "\n",
            "Epoch 00057: val_acc did not improve from 0.65000\n",
            "\n",
            "Epoch 00058: val_acc did not improve from 0.65000\n",
            "\n",
            "Epoch 00059: val_acc did not improve from 0.65000\n",
            "\n",
            "Epoch 00060: val_acc did not improve from 0.65000\n",
            "\n",
            "Epoch 00061: val_acc did not improve from 0.65000\n",
            "\n",
            "Epoch 00062: val_acc improved from 0.65000 to 0.70000, saving model to saved-model-62-0.70-no-aug.hdf5\n",
            "\n",
            "Epoch 00063: val_acc did not improve from 0.70000\n",
            "\n",
            "Epoch 00064: val_acc did not improve from 0.70000\n",
            "\n",
            "Epoch 00065: val_acc improved from 0.70000 to 0.75000, saving model to saved-model-65-0.75-no-aug.hdf5\n",
            "\n",
            "Epoch 00066: val_acc did not improve from 0.75000\n",
            "\n",
            "Epoch 00067: val_acc did not improve from 0.75000\n",
            "\n",
            "Epoch 00068: val_acc did not improve from 0.75000\n",
            "\n",
            "Epoch 00069: val_acc did not improve from 0.75000\n",
            "\n",
            "Epoch 00070: val_acc did not improve from 0.75000\n",
            "\n",
            "Epoch 00071: val_acc did not improve from 0.75000\n",
            "\n",
            "Epoch 00072: val_acc did not improve from 0.75000\n",
            "\n",
            "Epoch 00073: val_acc did not improve from 0.75000\n",
            "\n",
            "Epoch 00074: val_acc did not improve from 0.75000\n",
            "\n",
            "Epoch 00075: val_acc did not improve from 0.75000\n",
            "\n",
            "Epoch 00076: val_acc did not improve from 0.75000\n",
            "\n",
            "Epoch 00077: val_acc did not improve from 0.75000\n",
            "\n",
            "Epoch 00078: val_acc did not improve from 0.75000\n",
            "\n",
            "Epoch 00079: val_acc did not improve from 0.75000\n",
            "\n",
            "Epoch 00080: val_acc did not improve from 0.75000\n",
            "\n",
            "Epoch 00081: val_acc did not improve from 0.75000\n",
            "\n",
            "Epoch 00082: val_acc did not improve from 0.75000\n",
            "\n",
            "Epoch 00083: val_acc did not improve from 0.75000\n",
            "\n",
            "Epoch 00084: val_acc did not improve from 0.75000\n",
            "\n",
            "Epoch 00085: val_acc did not improve from 0.75000\n",
            "\n",
            "Epoch 00086: val_acc did not improve from 0.75000\n",
            "\n",
            "Epoch 00087: val_acc did not improve from 0.75000\n",
            "\n",
            "Epoch 00088: val_acc did not improve from 0.75000\n",
            "\n",
            "Epoch 00089: val_acc did not improve from 0.75000\n",
            "\n",
            "Epoch 00090: val_acc did not improve from 0.75000\n",
            "\n",
            "Epoch 00091: val_acc did not improve from 0.75000\n",
            "\n",
            "Epoch 00092: val_acc did not improve from 0.75000\n",
            "\n",
            "Epoch 00093: val_acc did not improve from 0.75000\n",
            "\n",
            "Epoch 00094: val_acc improved from 0.75000 to 0.80000, saving model to saved-model-94-0.80-no-aug.hdf5\n",
            "\n",
            "Epoch 00095: val_acc did not improve from 0.80000\n",
            "\n",
            "Epoch 00096: val_acc did not improve from 0.80000\n",
            "\n",
            "Epoch 00097: val_acc did not improve from 0.80000\n",
            "\n",
            "Epoch 00098: val_acc did not improve from 0.80000\n",
            "\n",
            "Epoch 00099: val_acc did not improve from 0.80000\n",
            "\n",
            "Epoch 00100: val_acc did not improve from 0.80000\n",
            "\n",
            "Epoch 00101: val_acc did not improve from 0.80000\n",
            "\n",
            "Epoch 00102: val_acc did not improve from 0.80000\n",
            "\n",
            "Epoch 00103: val_acc did not improve from 0.80000\n",
            "\n",
            "Epoch 00104: val_acc did not improve from 0.80000\n",
            "\n",
            "Epoch 00105: val_acc did not improve from 0.80000\n",
            "\n",
            "Epoch 00106: val_acc did not improve from 0.80000\n",
            "\n",
            "Epoch 00107: val_acc did not improve from 0.80000\n",
            "\n",
            "Epoch 00108: val_acc did not improve from 0.80000\n",
            "\n",
            "Epoch 00109: val_acc did not improve from 0.80000\n",
            "\n",
            "Epoch 00110: val_acc did not improve from 0.80000\n",
            "\n",
            "Epoch 00111: val_acc did not improve from 0.80000\n",
            "\n",
            "Epoch 00112: val_acc did not improve from 0.80000\n",
            "\n",
            "Epoch 00113: val_acc did not improve from 0.80000\n",
            "\n",
            "Epoch 00114: val_acc did not improve from 0.80000\n",
            "\n",
            "Epoch 00115: val_acc did not improve from 0.80000\n",
            "\n",
            "Epoch 00116: val_acc did not improve from 0.80000\n",
            "\n",
            "Epoch 00117: val_acc did not improve from 0.80000\n",
            "\n",
            "Epoch 00118: val_acc did not improve from 0.80000\n",
            "\n",
            "Epoch 00119: val_acc did not improve from 0.80000\n",
            "\n",
            "Epoch 00120: val_acc did not improve from 0.80000\n",
            "\n",
            "Epoch 00121: val_acc did not improve from 0.80000\n",
            "\n",
            "Epoch 00122: val_acc did not improve from 0.80000\n",
            "\n",
            "Epoch 00123: val_acc did not improve from 0.80000\n",
            "\n",
            "Epoch 00124: val_acc did not improve from 0.80000\n",
            "\n",
            "Epoch 00125: val_acc did not improve from 0.80000\n",
            "\n",
            "Epoch 00126: val_acc did not improve from 0.80000\n",
            "\n",
            "Epoch 00127: val_acc did not improve from 0.80000\n",
            "\n",
            "Epoch 00128: val_acc did not improve from 0.80000\n",
            "\n",
            "Epoch 00129: val_acc did not improve from 0.80000\n",
            "\n",
            "Epoch 00130: val_acc did not improve from 0.80000\n",
            "\n",
            "Epoch 00131: val_acc did not improve from 0.80000\n",
            "\n",
            "Epoch 00132: val_acc did not improve from 0.80000\n",
            "\n",
            "Epoch 00133: val_acc did not improve from 0.80000\n",
            "\n",
            "Epoch 00134: val_acc did not improve from 0.80000\n",
            "\n",
            "Epoch 00135: val_acc did not improve from 0.80000\n",
            "\n",
            "Epoch 00136: val_acc did not improve from 0.80000\n",
            "\n",
            "Epoch 00137: val_acc did not improve from 0.80000\n",
            "\n",
            "Epoch 00138: val_acc did not improve from 0.80000\n",
            "\n",
            "Epoch 00139: val_acc did not improve from 0.80000\n",
            "\n",
            "Epoch 00140: val_acc did not improve from 0.80000\n",
            "\n",
            "Epoch 00141: val_acc did not improve from 0.80000\n",
            "\n",
            "Epoch 00142: val_acc did not improve from 0.80000\n",
            "\n",
            "Epoch 00143: val_acc did not improve from 0.80000\n",
            "\n",
            "Epoch 00144: val_acc did not improve from 0.80000\n",
            "\n",
            "Epoch 00145: val_acc did not improve from 0.80000\n",
            "\n",
            "Epoch 00146: val_acc did not improve from 0.80000\n",
            "\n",
            "Epoch 00147: val_acc did not improve from 0.80000\n",
            "\n",
            "Epoch 00148: val_acc did not improve from 0.80000\n",
            "\n",
            "Epoch 00149: val_acc did not improve from 0.80000\n",
            "\n",
            "Epoch 00150: val_acc did not improve from 0.80000\n"
          ],
          "name": "stdout"
        },
        {
          "output_type": "execute_result",
          "data": {
            "text/plain": [
              "<tensorflow.python.keras.callbacks.History at 0x7f0e5a29efd0>"
            ]
          },
          "metadata": {
            "tags": []
          },
          "execution_count": 27
        }
      ]
    },
    {
      "cell_type": "code",
      "metadata": {
        "colab_type": "code",
        "id": "oFudOMWyq-r-",
        "colab": {
          "base_uri": "https://localhost:8080/",
          "height": 34
        },
        "outputId": "bd78510e-308a-421a-e854-77fc9eecd495"
      },
      "source": [
        "\n",
        "val_loss, val_acc = model.evaluate(x_test,y_test)"
      ],
      "execution_count": 10,
      "outputs": [
        {
          "output_type": "stream",
          "text": [
            "\r20/20 [==============================] - 0s 76us/sample - loss: 0.7405 - acc: 0.4500\n"
          ],
          "name": "stdout"
        }
      ]
    },
    {
      "cell_type": "code",
      "metadata": {
        "colab_type": "code",
        "id": "M3SAh588q-sA",
        "colab": {
          "base_uri": "https://localhost:8080/",
          "height": 34
        },
        "outputId": "4a61bec0-7e16-497c-c9c8-4177a9aa2109"
      },
      "source": [
        "print(\"loss:\",val_loss)\n",
        "predictions = model.predict(x_test)\n"
      ],
      "execution_count": 11,
      "outputs": [
        {
          "output_type": "stream",
          "text": [
            "loss: 0.7405394911766052\n"
          ],
          "name": "stdout"
        }
      ]
    },
    {
      "cell_type": "code",
      "metadata": {
        "colab_type": "code",
        "id": "SYmaaf2nq-sD",
        "colab": {
          "base_uri": "https://localhost:8080/",
          "height": 286
        },
        "outputId": "11e26bd9-1e5a-4d65-f2e5-730c597560e1"
      },
      "source": [
        "import random\n",
        "index = random.randint(0,19)\n",
        "import matplotlib.pyplot as plt\n",
        "plt.imshow(x_test[index], cmap='gray')\n",
        "plt.show()\n",
        "if(np.argmax(predictions[index]) == 1):\n",
        "  print('Brain !')\n",
        "else:\n",
        "  print('Not brain !')"
      ],
      "execution_count": 12,
      "outputs": [
        {
          "output_type": "display_data",
          "data": {
            "image/png": "[encoded data removed]",
            "text/plain": [
              "<Figure size 432x288 with 1 Axes>"
            ]
          },
          "metadata": {
            "tags": []
          }
        },
        {
          "output_type": "stream",
          "text": [
            "Not brain !\n"
          ],
          "name": "stdout"
        }
      ]
    },
    {
      "cell_type": "markdown",
      "metadata": {
        "id": "33yd5hXMNOgn",
        "colab_type": "text"
      },
      "source": [
        "# MR BRAIN WITH DATA AUGMENTATION\n"
      ]
    },
    {
      "cell_type": "code",
      "metadata": {
        "colab_type": "code",
        "id": "DPbPVak1NWoK",
        "colab": {}
      },
      "source": [
        "import tensorflow as tf\n",
        "import numpy as np\n",
        "model = tf.keras.models.Sequential()\n",
        "model.add(tf.keras.layers.Flatten(input_shape=(32,32,1)))\n",
        "model.add(tf.keras.layers.Dense(128,activation=tf.nn.relu))\n",
        "model.add(tf.keras.layers.Dense(128,activation=tf.nn.relu))\n",
        "model.add(tf.keras.layers.Dense(2,activation=tf.nn.softmax))\n",
        "model.compile(optimizer='adam',\n",
        "              loss='sparse_categorical_crossentropy',\n",
        "              metrics=['accuracy'])\n",
        "\n",
        "x_train = np.load('mrbraintrainx.npy')\n",
        "y_train = np.load('mrbraintrainy.npy')\n",
        "x_test = np.load('mrbraintestx.npy')\n",
        "y_test = np.load('mrbraintesty.npy')\n",
        "\n",
        "x_train = tf.keras.utils.normalize(x_train, axis=1)\n",
        "x_test = tf.keras.utils.normalize(x_test, axis=1)"
      ],
      "execution_count": 0,
      "outputs": []
    },
    {
      "cell_type": "code",
      "metadata": {
        "id": "hXVG06yVN9tG",
        "colab_type": "code",
        "outputId": "125f3f08-c742-4010-aa25-aa138e26c181",
        "colab": {
          "base_uri": "https://localhost:8080/",
          "height": 1000
        }
      },
      "source": [
        "from keras.callbacks import ModelCheckpoint\n",
        "from keras.preprocessing.image import ImageDataGenerator\n",
        "\n",
        "filepath = \"saved-model-{epoch:02d}-{val_acc:.2f}-with-aug.hdf5\"\n",
        "\n",
        "x_train_augmented = x_train[:,:,:,np.newaxis]\n",
        "x_test_augmented = x_test[:,:,:,np.newaxis]\n",
        "\n",
        "datagen = ImageDataGenerator(horizontal_flip = True)\n",
        "\n",
        "checkpoint = ModelCheckpoint(filepath, monitor='val_acc', verbose=1, save_best_only=True, mode='max')\n",
        "\n",
        "model.fit_generator(datagen.flow(x_train_augmented,y_train, batch_size=1000),steps_per_epoch=40,epochs=50,validation_data=(x_test_augmented,y_test),callbacks=[checkpoint])\n"
      ],
      "execution_count": 14,
      "outputs": [
        {
          "output_type": "stream",
          "text": [
            "Epoch 1/50\n",
            "39/40 [============================>.] - ETA: 0s - loss: 0.6842 - acc: 0.5604\n",
            "Epoch 00001: val_acc improved from -inf to 0.40000, saving model to saved-model-01-0.40-with-aug.hdf5\n",
            "40/40 [==============================] - 4s 108ms/step - loss: 0.6836 - acc: 0.5616 - val_loss: 0.7130 - val_acc: 0.4000\n",
            "Epoch 2/50\n",
            "39/40 [============================>.] - ETA: 0s - loss: 0.6290 - acc: 0.6149\n",
            "Epoch 00002: val_acc improved from 0.40000 to 0.50000, saving model to saved-model-02-0.50-with-aug.hdf5\n",
            "40/40 [==============================] - 4s 98ms/step - loss: 0.6284 - acc: 0.6152 - val_loss: 0.7441 - val_acc: 0.5000\n",
            "Epoch 3/50\n",
            "39/40 [============================>.] - ETA: 0s - loss: 0.5853 - acc: 0.6422\n",
            "Epoch 00003: val_acc did not improve from 0.50000\n",
            "40/40 [==============================] - 4s 100ms/step - loss: 0.5848 - acc: 0.6428 - val_loss: 0.7273 - val_acc: 0.4500\n",
            "Epoch 4/50\n",
            "39/40 [============================>.] - ETA: 0s - loss: 0.5508 - acc: 0.6814\n",
            "Epoch 00004: val_acc did not improve from 0.50000\n",
            "40/40 [==============================] - 4s 101ms/step - loss: 0.5504 - acc: 0.6821 - val_loss: 0.7024 - val_acc: 0.4500\n",
            "Epoch 5/50\n",
            "39/40 [============================>.] - ETA: 0s - loss: 0.5289 - acc: 0.7077\n",
            "Epoch 00005: val_acc did not improve from 0.50000\n",
            "40/40 [==============================] - 4s 101ms/step - loss: 0.5285 - acc: 0.7083 - val_loss: 0.6895 - val_acc: 0.5000\n",
            "Epoch 6/50\n",
            "39/40 [============================>.] - ETA: 0s - loss: 0.4941 - acc: 0.7414\n",
            "Epoch 00006: val_acc improved from 0.50000 to 0.55000, saving model to saved-model-06-0.55-with-aug.hdf5\n",
            "40/40 [==============================] - 4s 101ms/step - loss: 0.4938 - acc: 0.7416 - val_loss: 0.6502 - val_acc: 0.5500\n",
            "Epoch 7/50\n",
            "39/40 [============================>.] - ETA: 0s - loss: 0.4769 - acc: 0.7549\n",
            "Epoch 00007: val_acc did not improve from 0.55000\n",
            "40/40 [==============================] - 4s 100ms/step - loss: 0.4765 - acc: 0.7555 - val_loss: 0.6457 - val_acc: 0.5500\n",
            "Epoch 8/50\n",
            "39/40 [============================>.] - ETA: 0s - loss: 0.4479 - acc: 0.7774\n",
            "Epoch 00008: val_acc improved from 0.55000 to 0.60000, saving model to saved-model-08-0.60-with-aug.hdf5\n",
            "40/40 [==============================] - 4s 101ms/step - loss: 0.4475 - acc: 0.7771 - val_loss: 0.6060 - val_acc: 0.6000\n",
            "Epoch 9/50\n",
            "39/40 [============================>.] - ETA: 0s - loss: 0.4333 - acc: 0.7849\n",
            "Epoch 00009: val_acc improved from 0.60000 to 0.65000, saving model to saved-model-09-0.65-with-aug.hdf5\n",
            "40/40 [==============================] - 4s 101ms/step - loss: 0.4337 - acc: 0.7840 - val_loss: 0.6019 - val_acc: 0.6500\n",
            "Epoch 10/50\n",
            "39/40 [============================>.] - ETA: 0s - loss: 0.4128 - acc: 0.7986\n",
            "Epoch 00010: val_acc improved from 0.65000 to 0.70000, saving model to saved-model-10-0.70-with-aug.hdf5\n",
            "40/40 [==============================] - 4s 101ms/step - loss: 0.4124 - acc: 0.7988 - val_loss: 0.5768 - val_acc: 0.7000\n",
            "Epoch 11/50\n",
            "39/40 [============================>.] - ETA: 0s - loss: 0.4014 - acc: 0.8025\n",
            "Epoch 00011: val_acc did not improve from 0.70000\n",
            "40/40 [==============================] - 4s 101ms/step - loss: 0.4016 - acc: 0.8017 - val_loss: 0.5925 - val_acc: 0.6000\n",
            "Epoch 12/50\n",
            "39/40 [============================>.] - ETA: 0s - loss: 0.3837 - acc: 0.8142\n",
            "Epoch 00012: val_acc did not improve from 0.70000\n",
            "40/40 [==============================] - 4s 101ms/step - loss: 0.3834 - acc: 0.8148 - val_loss: 0.5859 - val_acc: 0.6500\n",
            "Epoch 13/50\n",
            "39/40 [============================>.] - ETA: 0s - loss: 0.3681 - acc: 0.8219\n",
            "Epoch 00013: val_acc did not improve from 0.70000\n",
            "40/40 [==============================] - 4s 101ms/step - loss: 0.3684 - acc: 0.8221 - val_loss: 0.6185 - val_acc: 0.6500\n",
            "Epoch 14/50\n",
            "39/40 [============================>.] - ETA: 0s - loss: 0.3745 - acc: 0.8164\n",
            "Epoch 00014: val_acc improved from 0.70000 to 0.75000, saving model to saved-model-14-0.75-with-aug.hdf5\n",
            "40/40 [==============================] - 4s 101ms/step - loss: 0.3739 - acc: 0.8174 - val_loss: 0.5555 - val_acc: 0.7500\n",
            "Epoch 15/50\n",
            "39/40 [============================>.] - ETA: 0s - loss: 0.3444 - acc: 0.8389\n",
            "Epoch 00015: val_acc did not improve from 0.75000\n",
            "40/40 [==============================] - 4s 101ms/step - loss: 0.3442 - acc: 0.8389 - val_loss: 0.5743 - val_acc: 0.7000\n",
            "Epoch 16/50\n",
            "39/40 [============================>.] - ETA: 0s - loss: 0.3322 - acc: 0.8440\n",
            "Epoch 00016: val_acc did not improve from 0.75000\n",
            "40/40 [==============================] - 4s 101ms/step - loss: 0.3323 - acc: 0.8442 - val_loss: 0.5829 - val_acc: 0.6500\n",
            "Epoch 17/50\n",
            "39/40 [============================>.] - ETA: 0s - loss: 0.3436 - acc: 0.8336\n",
            "Epoch 00017: val_acc did not improve from 0.75000\n",
            "40/40 [==============================] - 4s 101ms/step - loss: 0.3431 - acc: 0.8340 - val_loss: 0.5571 - val_acc: 0.6500\n",
            "Epoch 18/50\n",
            "39/40 [============================>.] - ETA: 0s - loss: 0.3144 - acc: 0.8557\n",
            "Epoch 00018: val_acc did not improve from 0.75000\n",
            "40/40 [==============================] - 4s 101ms/step - loss: 0.3142 - acc: 0.8561 - val_loss: 0.5482 - val_acc: 0.7000\n",
            "Epoch 19/50\n",
            "39/40 [============================>.] - ETA: 0s - loss: 0.3056 - acc: 0.8628\n",
            "Epoch 00019: val_acc did not improve from 0.75000\n",
            "40/40 [==============================] - 4s 101ms/step - loss: 0.3056 - acc: 0.8626 - val_loss: 0.6175 - val_acc: 0.6000\n",
            "Epoch 20/50\n",
            "39/40 [============================>.] - ETA: 0s - loss: 0.3027 - acc: 0.8608\n",
            "Epoch 00020: val_acc did not improve from 0.75000\n",
            "40/40 [==============================] - 4s 101ms/step - loss: 0.3024 - acc: 0.8612 - val_loss: 0.5412 - val_acc: 0.7000\n",
            "Epoch 21/50\n",
            "39/40 [============================>.] - ETA: 0s - loss: 0.3114 - acc: 0.8542\n",
            "Epoch 00021: val_acc did not improve from 0.75000\n",
            "40/40 [==============================] - 4s 101ms/step - loss: 0.3114 - acc: 0.8539 - val_loss: 0.5614 - val_acc: 0.7000\n",
            "Epoch 22/50\n",
            "39/40 [============================>.] - ETA: 0s - loss: 0.2841 - acc: 0.8773\n",
            "Epoch 00022: val_acc did not improve from 0.75000\n",
            "40/40 [==============================] - 4s 101ms/step - loss: 0.2840 - acc: 0.8771 - val_loss: 0.5727 - val_acc: 0.6500\n",
            "Epoch 23/50\n",
            "39/40 [============================>.] - ETA: 0s - loss: 0.2743 - acc: 0.8803\n",
            "Epoch 00023: val_acc did not improve from 0.75000\n",
            "40/40 [==============================] - 4s 101ms/step - loss: 0.2741 - acc: 0.8802 - val_loss: 0.5743 - val_acc: 0.6500\n",
            "Epoch 24/50\n",
            "39/40 [============================>.] - ETA: 0s - loss: 0.2763 - acc: 0.8762\n",
            "Epoch 00024: val_acc did not improve from 0.75000\n",
            "40/40 [==============================] - 4s 101ms/step - loss: 0.2759 - acc: 0.8767 - val_loss: 0.5861 - val_acc: 0.6000\n",
            "Epoch 25/50\n",
            "39/40 [============================>.] - ETA: 0s - loss: 0.2619 - acc: 0.8874\n",
            "Epoch 00025: val_acc did not improve from 0.75000\n",
            "40/40 [==============================] - 4s 101ms/step - loss: 0.2617 - acc: 0.8875 - val_loss: 0.6070 - val_acc: 0.6500\n",
            "Epoch 26/50\n",
            "39/40 [============================>.] - ETA: 0s - loss: 0.2848 - acc: 0.8681\n",
            "Epoch 00026: val_acc did not improve from 0.75000\n",
            "40/40 [==============================] - 4s 101ms/step - loss: 0.2842 - acc: 0.8685 - val_loss: 0.7268 - val_acc: 0.6000\n",
            "Epoch 27/50\n",
            "39/40 [============================>.] - ETA: 0s - loss: 0.2506 - acc: 0.8955\n",
            "Epoch 00027: val_acc did not improve from 0.75000\n",
            "40/40 [==============================] - 4s 101ms/step - loss: 0.2504 - acc: 0.8956 - val_loss: 0.5911 - val_acc: 0.6500\n",
            "Epoch 28/50\n",
            "39/40 [============================>.] - ETA: 0s - loss: 0.2409 - acc: 0.8994\n",
            "Epoch 00028: val_acc did not improve from 0.75000\n",
            "40/40 [==============================] - 4s 101ms/step - loss: 0.2412 - acc: 0.8988 - val_loss: 0.5928 - val_acc: 0.5000\n",
            "Epoch 29/50\n",
            "39/40 [============================>.] - ETA: 0s - loss: 0.2366 - acc: 0.9021\n",
            "Epoch 00029: val_acc did not improve from 0.75000\n",
            "40/40 [==============================] - 4s 101ms/step - loss: 0.2364 - acc: 0.9024 - val_loss: 0.6458 - val_acc: 0.6000\n",
            "Epoch 30/50\n",
            "39/40 [============================>.] - ETA: 0s - loss: 0.2321 - acc: 0.9041\n",
            "Epoch 00030: val_acc did not improve from 0.75000\n",
            "40/40 [==============================] - 4s 101ms/step - loss: 0.2320 - acc: 0.9039 - val_loss: 0.6899 - val_acc: 0.6000\n",
            "Epoch 31/50\n",
            "39/40 [============================>.] - ETA: 0s - loss: 0.2371 - acc: 0.8982\n",
            "Epoch 00031: val_acc did not improve from 0.75000\n",
            "40/40 [==============================] - 4s 101ms/step - loss: 0.2409 - acc: 0.8959 - val_loss: 0.8209 - val_acc: 0.5000\n",
            "Epoch 32/50\n",
            "39/40 [============================>.] - ETA: 0s - loss: 0.2533 - acc: 0.8860\n",
            "Epoch 00032: val_acc did not improve from 0.75000\n",
            "40/40 [==============================] - 4s 101ms/step - loss: 0.2526 - acc: 0.8865 - val_loss: 0.6540 - val_acc: 0.6000\n",
            "Epoch 33/50\n",
            "39/40 [============================>.] - ETA: 0s - loss: 0.2119 - acc: 0.9171\n",
            "Epoch 00033: val_acc did not improve from 0.75000\n",
            "40/40 [==============================] - 4s 101ms/step - loss: 0.2117 - acc: 0.9172 - val_loss: 0.6563 - val_acc: 0.5000\n",
            "Epoch 34/50\n",
            "39/40 [============================>.] - ETA: 0s - loss: 0.2116 - acc: 0.9133\n",
            "Epoch 00034: val_acc did not improve from 0.75000\n",
            "40/40 [==============================] - 4s 101ms/step - loss: 0.2113 - acc: 0.9135 - val_loss: 0.7475 - val_acc: 0.6500\n",
            "Epoch 35/50\n",
            "39/40 [============================>.] - ETA: 0s - loss: 0.2039 - acc: 0.9178\n",
            "Epoch 00035: val_acc did not improve from 0.75000\n",
            "40/40 [==============================] - 4s 101ms/step - loss: 0.2039 - acc: 0.9178 - val_loss: 0.6676 - val_acc: 0.5500\n",
            "Epoch 36/50\n",
            "39/40 [============================>.] - ETA: 0s - loss: 0.2081 - acc: 0.9134\n",
            "Epoch 00036: val_acc did not improve from 0.75000\n",
            "40/40 [==============================] - 4s 101ms/step - loss: 0.2088 - acc: 0.9126 - val_loss: 0.7878 - val_acc: 0.6000\n",
            "Epoch 37/50\n",
            "39/40 [============================>.] - ETA: 0s - loss: 0.2434 - acc: 0.8904\n",
            "Epoch 00037: val_acc did not improve from 0.75000\n",
            "40/40 [==============================] - 4s 101ms/step - loss: 0.2424 - acc: 0.8909 - val_loss: 0.7500 - val_acc: 0.5000\n",
            "Epoch 38/50\n",
            "39/40 [============================>.] - ETA: 0s - loss: 0.1898 - acc: 0.9251\n",
            "Epoch 00038: val_acc did not improve from 0.75000\n",
            "40/40 [==============================] - 4s 101ms/step - loss: 0.1898 - acc: 0.9251 - val_loss: 0.7390 - val_acc: 0.5000\n",
            "Epoch 39/50\n",
            "39/40 [============================>.] - ETA: 0s - loss: 0.1845 - acc: 0.9262\n",
            "Epoch 00039: val_acc did not improve from 0.75000\n",
            "40/40 [==============================] - 4s 101ms/step - loss: 0.1843 - acc: 0.9263 - val_loss: 0.7884 - val_acc: 0.5500\n",
            "Epoch 40/50\n",
            "39/40 [============================>.] - ETA: 0s - loss: 0.1831 - acc: 0.9265\n",
            "Epoch 00040: val_acc did not improve from 0.75000\n",
            "40/40 [==============================] - 4s 101ms/step - loss: 0.1829 - acc: 0.9265 - val_loss: 0.7896 - val_acc: 0.5000\n",
            "Epoch 41/50\n",
            "39/40 [============================>.] - ETA: 0s - loss: 0.1854 - acc: 0.9252\n",
            "Epoch 00041: val_acc did not improve from 0.75000\n",
            "40/40 [==============================] - 4s 101ms/step - loss: 0.1868 - acc: 0.9246 - val_loss: 0.9528 - val_acc: 0.5500\n",
            "Epoch 42/50\n",
            "39/40 [============================>.] - ETA: 0s - loss: 0.2313 - acc: 0.8948\n",
            "Epoch 00042: val_acc did not improve from 0.75000\n",
            "40/40 [==============================] - 4s 101ms/step - loss: 0.2299 - acc: 0.8957 - val_loss: 0.7452 - val_acc: 0.4500\n",
            "Epoch 43/50\n",
            "39/40 [============================>.] - ETA: 0s - loss: 0.1682 - acc: 0.9346\n",
            "Epoch 00043: val_acc did not improve from 0.75000\n",
            "40/40 [==============================] - 4s 101ms/step - loss: 0.1680 - acc: 0.9348 - val_loss: 0.7996 - val_acc: 0.5000\n",
            "Epoch 44/50\n",
            "39/40 [============================>.] - ETA: 0s - loss: 0.1668 - acc: 0.9345\n",
            "Epoch 00044: val_acc did not improve from 0.75000\n",
            "40/40 [==============================] - 4s 101ms/step - loss: 0.1666 - acc: 0.9346 - val_loss: 0.8439 - val_acc: 0.6000\n",
            "Epoch 45/50\n",
            "39/40 [============================>.] - ETA: 0s - loss: 0.1605 - acc: 0.9373\n",
            "Epoch 00045: val_acc did not improve from 0.75000\n",
            "40/40 [==============================] - 4s 101ms/step - loss: 0.1610 - acc: 0.9371 - val_loss: 0.8992 - val_acc: 0.4500\n",
            "Epoch 46/50\n",
            "39/40 [============================>.] - ETA: 0s - loss: 0.1679 - acc: 0.9322\n",
            "Epoch 00046: val_acc did not improve from 0.75000\n",
            "40/40 [==============================] - 4s 101ms/step - loss: 0.1676 - acc: 0.9324 - val_loss: 0.9232 - val_acc: 0.6000\n",
            "Epoch 47/50\n",
            "39/40 [============================>.] - ETA: 0s - loss: 0.1546 - acc: 0.9407\n",
            "Epoch 00047: val_acc did not improve from 0.75000\n",
            "40/40 [==============================] - 4s 101ms/step - loss: 0.1552 - acc: 0.9404 - val_loss: 0.8701 - val_acc: 0.4500\n",
            "Epoch 48/50\n",
            "39/40 [============================>.] - ETA: 0s - loss: 0.2928 - acc: 0.8720\n",
            "Epoch 00048: val_acc did not improve from 0.75000\n",
            "40/40 [==============================] - 4s 101ms/step - loss: 0.2906 - acc: 0.8729 - val_loss: 0.7440 - val_acc: 0.6500\n",
            "Epoch 49/50\n",
            "39/40 [============================>.] - ETA: 0s - loss: 0.1751 - acc: 0.9318\n",
            "Epoch 00049: val_acc did not improve from 0.75000\n",
            "40/40 [==============================] - 4s 101ms/step - loss: 0.1748 - acc: 0.9321 - val_loss: 0.8098 - val_acc: 0.5500\n",
            "Epoch 50/50\n",
            "39/40 [============================>.] - ETA: 0s - loss: 0.1615 - acc: 0.9391\n",
            "Epoch 00050: val_acc did not improve from 0.75000\n",
            "40/40 [==============================] - 4s 101ms/step - loss: 0.1614 - acc: 0.9393 - val_loss: 0.8283 - val_acc: 0.5500\n"
          ],
          "name": "stdout"
        },
        {
          "output_type": "execute_result",
          "data": {
            "text/plain": [
              "<tensorflow.python.keras.callbacks.History at 0x7f0e5a6c7e80>"
            ]
          },
          "metadata": {
            "tags": []
          },
          "execution_count": 14
        }
      ]
    },
    {
      "cell_type": "code",
      "metadata": {
        "id": "bMQwXHsSOAGn",
        "colab_type": "code",
        "outputId": "049ac3fd-f14d-47ff-a096-bbe515e7365e",
        "colab": {
          "base_uri": "https://localhost:8080/",
          "height": 34
        }
      },
      "source": [
        "\n",
        "val_loss, val_acc = model.evaluate(x_test_augmented,y_test)"
      ],
      "execution_count": 15,
      "outputs": [
        {
          "output_type": "stream",
          "text": [
            "\r20/20 [==============================] - 0s 61us/sample - loss: 0.8283 - acc: 0.5500\n"
          ],
          "name": "stdout"
        }
      ]
    },
    {
      "cell_type": "code",
      "metadata": {
        "id": "H-shhLHZPFLV",
        "colab_type": "code",
        "outputId": "79128a06-6b4d-4b6d-d9a0-3409191dd829",
        "colab": {
          "base_uri": "https://localhost:8080/",
          "height": 34
        }
      },
      "source": [
        "print(\"loss:\",val_loss)\n",
        "predictions = model.predict(x_test_augmented)\n"
      ],
      "execution_count": 16,
      "outputs": [
        {
          "output_type": "stream",
          "text": [
            "loss: 0.8282866477966309\n"
          ],
          "name": "stdout"
        }
      ]
    },
    {
      "cell_type": "code",
      "metadata": {
        "id": "RQf8UafCPHZj",
        "colab_type": "code",
        "outputId": "dfdfda29-42ea-4289-fef2-d076f2c81fbf",
        "colab": {
          "base_uri": "https://localhost:8080/",
          "height": 286
        }
      },
      "source": [
        "import random\n",
        "index = random.randint(0,19)\n",
        "import matplotlib.pyplot as plt\n",
        "plt.imshow(x_test[index], cmap='gray')\n",
        "plt.show()\n",
        "if(np.argmax(predictions[index]) == 1):\n",
        "  print('Brain !')\n",
        "else:\n",
        "  print('Not brain !')"
      ],
      "execution_count": 24,
      "outputs": [
        {
          "output_type": "display_data",
          "data": {
            "image/png": "[encoded data removed]",
            "text/plain": [
              "<Figure size 432x288 with 1 Axes>"
            ]
          },
          "metadata": {
            "tags": []
          }
        },
        {
          "output_type": "stream",
          "text": [
            "Not brain !\n"
          ],
          "name": "stdout"
        }
      ]
    }
  ]
}